{
 "cells": [
  {
   "cell_type": "code",
   "execution_count": 9,
   "metadata": {},
   "outputs": [],
   "source": [
    "import pandas as pd\n",
    "import numpy as np\n",
    "import os"
   ]
  },
  {
   "cell_type": "code",
   "execution_count": null,
   "metadata": {},
   "outputs": [],
   "source": [
    "- Extract Data\n",
    "- Clean Data\n",
    "- ABC Analysis\n",
    "      - Helps to businesses prioritize their inventory management \n",
    "      - Method - \n",
    "            1. Group by Product take aggregations\n",
    "                  - sum of total value\n",
    "                  - sum of total total_inventory\n",
    "                  - first value price_per_unit\n",
    "                  - sum of \n",
    "                        open_stock\n",
    "                        alocated_inventory\n",
    "                        damaged_inventory\n",
    "            2. Calculate Cummulative Sum % of total_inventory\n",
    "            3. Categorize Based on Cummulative %\n",
    "                  - A (80%): Products that contribute to the top 80% of the total value.\n",
    "                  - B (15%): Products that contribute to the next 15% of the total value.\n",
    "                  - C (5%): Products that contribute to the remaining 5% of the total value.\n",
    "      - Visualization\n",
    "            - Pareto Chart\n",
    "                  - X-axis: Items (ranked from highest to lowest value).\n",
    "                  - Y-axis: Cumulative percentage of total value.\n",
    "                  - Bars: Represents the value contribution of each item.\n",
    "                  - Line: Represents the cumulative percentage.\n",
    "            - ABC Categories Pie Chart\n",
    "            - Inventory Value Distribution Histogram\n",
    "            - ABC Categories Bubble Chart\n",
    "            - ABC Categories Heatmap"
   ]
  },
  {
   "cell_type": "code",
   "execution_count": 31,
   "metadata": {},
   "outputs": [],
   "source": [
    "data = pd.read_excel(\"C:\\\\Users\\\\Dell\\\\Downloads\\\\Inventory data.xlsx\")"
   ]
  },
  {
   "cell_type": "code",
   "execution_count": 33,
   "metadata": {},
   "outputs": [
    {
     "data": {
      "text/plain": [
       "batch_no               0\n",
       "region                 0\n",
       "warehouse              0\n",
       "storage_location       0\n",
       "product_group          0\n",
       "product_code           0\n",
       "product_description    0\n",
       "open_stock             0\n",
       "alocated_inventory     0\n",
       "damaged_inventory      0\n",
       "total_inventory        0\n",
       "price_per_unit         0\n",
       "total_price            0\n",
       "updated_at             0\n",
       "dtype: int64"
      ]
     },
     "execution_count": 33,
     "metadata": {},
     "output_type": "execute_result"
    }
   ],
   "source": [
    "data.isna().sum()"
   ]
  },
  {
   "cell_type": "code",
   "execution_count": 34,
   "metadata": {},
   "outputs": [],
   "source": [
    "def generate_and_save_profile(df, output_file=\"report.html\"):\n",
    "    profile = ProfileReport(df, title=\"Pandas Profiling Report\")\n",
    "    profile.to_file(output_file)\n",
    "    print(f\"Profile report saved to {output_file}\")"
   ]
  },
  {
   "cell_type": "code",
   "execution_count": 35,
   "metadata": {},
   "outputs": [
    {
     "data": {
      "text/plain": [
       "batch_no                        int64\n",
       "region                         object\n",
       "warehouse                      object\n",
       "storage_location               object\n",
       "product_group                  object\n",
       "product_code                   object\n",
       "product_description            object\n",
       "open_stock                      int64\n",
       "alocated_inventory              int64\n",
       "damaged_inventory               int64\n",
       "total_inventory                 int64\n",
       "price_per_unit                  int64\n",
       "total_price                     int64\n",
       "updated_at             datetime64[ns]\n",
       "dtype: object"
      ]
     },
     "execution_count": 35,
     "metadata": {},
     "output_type": "execute_result"
    }
   ],
   "source": [
    "data.dtypes"
   ]
  },
  {
   "cell_type": "code",
   "execution_count": 38,
   "metadata": {},
   "outputs": [
    {
     "data": {
      "text/html": [
       "<div>\n",
       "<style scoped>\n",
       "    .dataframe tbody tr th:only-of-type {\n",
       "        vertical-align: middle;\n",
       "    }\n",
       "\n",
       "    .dataframe tbody tr th {\n",
       "        vertical-align: top;\n",
       "    }\n",
       "\n",
       "    .dataframe thead th {\n",
       "        text-align: right;\n",
       "    }\n",
       "</style>\n",
       "<table border=\"1\" class=\"dataframe\">\n",
       "  <thead>\n",
       "    <tr style=\"text-align: right;\">\n",
       "      <th></th>\n",
       "      <th>region</th>\n",
       "      <th>product_code</th>\n",
       "    </tr>\n",
       "  </thead>\n",
       "  <tbody>\n",
       "    <tr>\n",
       "      <th>0</th>\n",
       "      <td>Delhi</td>\n",
       "      <td>80</td>\n",
       "    </tr>\n",
       "    <tr>\n",
       "      <th>1</th>\n",
       "      <td>karnataka</td>\n",
       "      <td>80</td>\n",
       "    </tr>\n",
       "    <tr>\n",
       "      <th>2</th>\n",
       "      <td>maharashtra</td>\n",
       "      <td>80</td>\n",
       "    </tr>\n",
       "  </tbody>\n",
       "</table>\n",
       "</div>"
      ],
      "text/plain": [
       "        region  product_code\n",
       "0        Delhi            80\n",
       "1    karnataka            80\n",
       "2  maharashtra            80"
      ]
     },
     "execution_count": 38,
     "metadata": {},
     "output_type": "execute_result"
    }
   ],
   "source": [
    "data.groupby('region').agg({'product_code':'nunique'}).reset_index()"
   ]
  },
  {
   "cell_type": "code",
   "execution_count": 46,
   "metadata": {},
   "outputs": [
    {
     "data": {
      "text/html": [
       "<div>\n",
       "<style scoped>\n",
       "    .dataframe tbody tr th:only-of-type {\n",
       "        vertical-align: middle;\n",
       "    }\n",
       "\n",
       "    .dataframe tbody tr th {\n",
       "        vertical-align: top;\n",
       "    }\n",
       "\n",
       "    .dataframe thead tr th {\n",
       "        text-align: left;\n",
       "    }\n",
       "</style>\n",
       "<table border=\"1\" class=\"dataframe\">\n",
       "  <thead>\n",
       "    <tr>\n",
       "      <th></th>\n",
       "      <th>region</th>\n",
       "      <th>warehouse</th>\n",
       "      <th colspan=\"2\" halign=\"left\">storage_location</th>\n",
       "      <th>product_group</th>\n",
       "    </tr>\n",
       "    <tr>\n",
       "      <th></th>\n",
       "      <th></th>\n",
       "      <th></th>\n",
       "      <th>nunique</th>\n",
       "      <th>count</th>\n",
       "      <th>nunique</th>\n",
       "    </tr>\n",
       "  </thead>\n",
       "  <tbody>\n",
       "    <tr>\n",
       "      <th>0</th>\n",
       "      <td>Delhi</td>\n",
       "      <td>Delhi</td>\n",
       "      <td>5</td>\n",
       "      <td>827</td>\n",
       "      <td>4</td>\n",
       "    </tr>\n",
       "    <tr>\n",
       "      <th>1</th>\n",
       "      <td>karnataka</td>\n",
       "      <td>Bangalore</td>\n",
       "      <td>5</td>\n",
       "      <td>820</td>\n",
       "      <td>4</td>\n",
       "    </tr>\n",
       "    <tr>\n",
       "      <th>2</th>\n",
       "      <td>maharashtra</td>\n",
       "      <td>Pune</td>\n",
       "      <td>5</td>\n",
       "      <td>838</td>\n",
       "      <td>4</td>\n",
       "    </tr>\n",
       "  </tbody>\n",
       "</table>\n",
       "</div>"
      ],
      "text/plain": [
       "        region  warehouse storage_location       product_group\n",
       "                                   nunique count       nunique\n",
       "0        Delhi      Delhi                5   827             4\n",
       "1    karnataka  Bangalore                5   820             4\n",
       "2  maharashtra       Pune                5   838             4"
      ]
     },
     "execution_count": 46,
     "metadata": {},
     "output_type": "execute_result"
    }
   ],
   "source": [
    "data.groupby(['region','warehouse']).agg({'storage_location':['nunique','count'],'product_group':'nunique'}).reset_index()"
   ]
  },
  {
   "cell_type": "code",
   "execution_count": 53,
   "metadata": {},
   "outputs": [
    {
     "data": {
      "text/html": [
       "<div>\n",
       "<style scoped>\n",
       "    .dataframe tbody tr th:only-of-type {\n",
       "        vertical-align: middle;\n",
       "    }\n",
       "\n",
       "    .dataframe tbody tr th {\n",
       "        vertical-align: top;\n",
       "    }\n",
       "\n",
       "    .dataframe thead th {\n",
       "        text-align: right;\n",
       "    }\n",
       "</style>\n",
       "<table border=\"1\" class=\"dataframe\">\n",
       "  <thead>\n",
       "    <tr style=\"text-align: right;\">\n",
       "      <th></th>\n",
       "      <th>batch_no</th>\n",
       "      <th>region</th>\n",
       "      <th>warehouse</th>\n",
       "      <th>storage_location</th>\n",
       "      <th>product_group</th>\n",
       "      <th>product_code</th>\n",
       "      <th>product_description</th>\n",
       "      <th>open_stock</th>\n",
       "      <th>alocated_inventory</th>\n",
       "      <th>damaged_inventory</th>\n",
       "      <th>total_inventory</th>\n",
       "      <th>price_per_unit</th>\n",
       "      <th>total_price</th>\n",
       "      <th>updated_at</th>\n",
       "    </tr>\n",
       "  </thead>\n",
       "  <tbody>\n",
       "  </tbody>\n",
       "</table>\n",
       "</div>"
      ],
      "text/plain": [
       "Empty DataFrame\n",
       "Columns: [batch_no, region, warehouse, storage_location, product_group, product_code, product_description, open_stock, alocated_inventory, damaged_inventory, total_inventory, price_per_unit, total_price, updated_at]\n",
       "Index: []"
      ]
     },
     "execution_count": 53,
     "metadata": {},
     "output_type": "execute_result"
    }
   ],
   "source": [
    "#Check - total_inventory = open_stock + alocated_inventory + damaged_inventory\n",
    "data[~data['total_inventory'] == data[['open_stock','alocated_inventory','damaged_inventory']].sum(axis=1)]"
   ]
  },
  {
   "cell_type": "code",
   "execution_count": 59,
   "metadata": {},
   "outputs": [
    {
     "data": {
      "text/html": [
       "<div>\n",
       "<style scoped>\n",
       "    .dataframe tbody tr th:only-of-type {\n",
       "        vertical-align: middle;\n",
       "    }\n",
       "\n",
       "    .dataframe tbody tr th {\n",
       "        vertical-align: top;\n",
       "    }\n",
       "\n",
       "    .dataframe thead th {\n",
       "        text-align: right;\n",
       "    }\n",
       "</style>\n",
       "<table border=\"1\" class=\"dataframe\">\n",
       "  <thead>\n",
       "    <tr style=\"text-align: right;\">\n",
       "      <th></th>\n",
       "      <th>product_code</th>\n",
       "      <th>price_per_unit</th>\n",
       "    </tr>\n",
       "  </thead>\n",
       "  <tbody>\n",
       "  </tbody>\n",
       "</table>\n",
       "</div>"
      ],
      "text/plain": [
       "Empty DataFrame\n",
       "Columns: [product_code, price_per_unit]\n",
       "Index: []"
      ]
     },
     "execution_count": 59,
     "metadata": {},
     "output_type": "execute_result"
    }
   ],
   "source": [
    "# check - for each indivisual product code is there any 2 unit prices\n",
    "(data\n",
    "    .groupby('product_code')\n",
    "    .agg({'price_per_unit':'nunique'})\n",
    "    .reset_index()\n",
    "    .query(\"price_per_unit>1\"))"
   ]
  },
  {
   "cell_type": "code",
   "execution_count": 60,
   "metadata": {},
   "outputs": [
    {
     "data": {
      "text/html": [
       "<div>\n",
       "<style scoped>\n",
       "    .dataframe tbody tr th:only-of-type {\n",
       "        vertical-align: middle;\n",
       "    }\n",
       "\n",
       "    .dataframe tbody tr th {\n",
       "        vertical-align: top;\n",
       "    }\n",
       "\n",
       "    .dataframe thead th {\n",
       "        text-align: right;\n",
       "    }\n",
       "</style>\n",
       "<table border=\"1\" class=\"dataframe\">\n",
       "  <thead>\n",
       "    <tr style=\"text-align: right;\">\n",
       "      <th></th>\n",
       "      <th>batch_no</th>\n",
       "      <th>region</th>\n",
       "      <th>warehouse</th>\n",
       "      <th>storage_location</th>\n",
       "      <th>product_group</th>\n",
       "      <th>product_code</th>\n",
       "      <th>product_description</th>\n",
       "      <th>open_stock</th>\n",
       "      <th>alocated_inventory</th>\n",
       "      <th>damaged_inventory</th>\n",
       "      <th>total_inventory</th>\n",
       "      <th>price_per_unit</th>\n",
       "      <th>total_price</th>\n",
       "      <th>updated_at</th>\n",
       "    </tr>\n",
       "  </thead>\n",
       "  <tbody>\n",
       "    <tr>\n",
       "      <th>0</th>\n",
       "      <td>25156</td>\n",
       "      <td>maharashtra</td>\n",
       "      <td>Pune</td>\n",
       "      <td>SL 3</td>\n",
       "      <td>Lighting</td>\n",
       "      <td>Lighting 15</td>\n",
       "      <td>Lighting 15</td>\n",
       "      <td>200</td>\n",
       "      <td>35</td>\n",
       "      <td>10</td>\n",
       "      <td>245</td>\n",
       "      <td>272</td>\n",
       "      <td>66640</td>\n",
       "      <td>2023-08-11</td>\n",
       "    </tr>\n",
       "    <tr>\n",
       "      <th>1</th>\n",
       "      <td>25423</td>\n",
       "      <td>maharashtra</td>\n",
       "      <td>Pune</td>\n",
       "      <td>SL 4</td>\n",
       "      <td>Fan</td>\n",
       "      <td>Fan 10</td>\n",
       "      <td>Fan 10</td>\n",
       "      <td>147</td>\n",
       "      <td>10</td>\n",
       "      <td>4</td>\n",
       "      <td>161</td>\n",
       "      <td>107</td>\n",
       "      <td>17227</td>\n",
       "      <td>2023-08-11</td>\n",
       "    </tr>\n",
       "  </tbody>\n",
       "</table>\n",
       "</div>"
      ],
      "text/plain": [
       "   batch_no       region warehouse storage_location product_group  \\\n",
       "0     25156  maharashtra      Pune             SL 3      Lighting   \n",
       "1     25423  maharashtra      Pune             SL 4           Fan   \n",
       "\n",
       "  product_code product_description  open_stock  alocated_inventory  \\\n",
       "0  Lighting 15         Lighting 15         200                  35   \n",
       "1       Fan 10              Fan 10         147                  10   \n",
       "\n",
       "   damaged_inventory  total_inventory  price_per_unit  total_price updated_at  \n",
       "0                 10              245             272        66640 2023-08-11  \n",
       "1                  4              161             107        17227 2023-08-11  "
      ]
     },
     "execution_count": 60,
     "metadata": {},
     "output_type": "execute_result"
    }
   ],
   "source": [
    "data.head(2)"
   ]
  },
  {
   "cell_type": "code",
   "execution_count": 62,
   "metadata": {},
   "outputs": [
    {
     "data": {
      "text/html": [
       "<div>\n",
       "<style scoped>\n",
       "    .dataframe tbody tr th:only-of-type {\n",
       "        vertical-align: middle;\n",
       "    }\n",
       "\n",
       "    .dataframe tbody tr th {\n",
       "        vertical-align: top;\n",
       "    }\n",
       "\n",
       "    .dataframe thead th {\n",
       "        text-align: right;\n",
       "    }\n",
       "</style>\n",
       "<table border=\"1\" class=\"dataframe\">\n",
       "  <thead>\n",
       "    <tr style=\"text-align: right;\">\n",
       "      <th></th>\n",
       "      <th>batch_no</th>\n",
       "      <th>region</th>\n",
       "      <th>warehouse</th>\n",
       "      <th>storage_location</th>\n",
       "      <th>product_group</th>\n",
       "      <th>product_code</th>\n",
       "      <th>product_description</th>\n",
       "      <th>open_stock</th>\n",
       "      <th>alocated_inventory</th>\n",
       "      <th>damaged_inventory</th>\n",
       "      <th>total_inventory</th>\n",
       "      <th>price_per_unit</th>\n",
       "      <th>total_price</th>\n",
       "      <th>updated_at</th>\n",
       "    </tr>\n",
       "  </thead>\n",
       "  <tbody>\n",
       "  </tbody>\n",
       "</table>\n",
       "</div>"
      ],
      "text/plain": [
       "Empty DataFrame\n",
       "Columns: [batch_no, region, warehouse, storage_location, product_group, product_code, product_description, open_stock, alocated_inventory, damaged_inventory, total_inventory, price_per_unit, total_price, updated_at]\n",
       "Index: []"
      ]
     },
     "execution_count": 62,
     "metadata": {},
     "output_type": "execute_result"
    }
   ],
   "source": [
    "# check - total_inventory * price_per_unit == total_price\n",
    "data[~data['total_price'] == data['total_inventory'] * data['price_per_unit']]"
   ]
  },
  {
   "cell_type": "code",
   "execution_count": 28,
   "metadata": {},
   "outputs": [],
   "source": [
    "import plotly.express as px"
   ]
  },
  {
   "cell_type": "code",
   "execution_count": 30,
   "metadata": {},
   "outputs": [
    {
     "data": {
      "application/vnd.plotly.v1+json": {
       "config": {
        "plotlyServerURL": "https://plot.ly"
       },
       "data": [
        {
         "hovertemplate": "variable=cumulative_percentage<br>index=%{x}<br>value=%{y}<extra></extra>",
         "legendgroup": "cumulative_percentage",
         "line": {
          "color": "#636efa",
          "dash": "solid"
         },
         "marker": {
          "symbol": "circle"
         },
         "mode": "lines",
         "name": "cumulative_percentage",
         "orientation": "v",
         "showlegend": true,
         "type": "scatter",
         "x": [
          0,
          1,
          2,
          3,
          4,
          5,
          6,
          7,
          8,
          9,
          10,
          11,
          12,
          13,
          14,
          15,
          16,
          17,
          18,
          19,
          20,
          21,
          22,
          23,
          24,
          25,
          26,
          27,
          28,
          29,
          30,
          31,
          32,
          33,
          34,
          35,
          36,
          37,
          38,
          39,
          40,
          41,
          42,
          43,
          44,
          45,
          46,
          47,
          48,
          49,
          50,
          51,
          52,
          53,
          54,
          55,
          56,
          57,
          58,
          59,
          60,
          61,
          62,
          63,
          64,
          65,
          66,
          67,
          68,
          69,
          70,
          71,
          72,
          73,
          74,
          75,
          76,
          77,
          78,
          79
         ],
         "xaxis": "x",
         "y": [
          2.225999606180192,
          4.101300968791485,
          5.964192768590834,
          7.799970127028301,
          9.626084435631132,
          11.45081784033447,
          13.22246510399037,
          14.96733659733568,
          16.70534727067403,
          18.44188854864466,
          20.17817090713412,
          21.91022533991867,
          23.62772019495916,
          25.31716980949032,
          26.98704969969273,
          28.65155455256485,
          30.30680385335115,
          31.96166859862114,
          33.59803316459212,
          35.19386208318443,
          36.78855372253673,
          38.36921673295443,
          39.94363071623203,
          41.46757834291707,
          42.98081740945749,
          44.48505438095695,
          45.98123753635907,
          47.46912434349163,
          48.94310815772474,
          50.3870857168128,
          51.82452364714899,
          53.22474709138376,
          54.62055907205355,
          55.98783091548422,
          57.34064150502444,
          58.6394253219844,
          59.91752944755716,
          61.18761143916318,
          62.41376888790303,
          63.63471517240193,
          64.84660036754768,
          66.04616776881151,
          67.24492126706498,
          68.44348904248386,
          69.63858707835782,
          70.82642116642506,
          72.00777899000165,
          73.18668199469995,
          74.34856186287782,
          75.4761376310209,
          76.58130757790242,
          77.65159549898743,
          78.67379650073708,
          79.67957741893504,
          80.6827014081112,
          81.6726696656753,
          82.6231969480975,
          83.5731572296306,
          84.48200393802328,
          85.37399793790844,
          86.23522749648853,
          87.08485484034347,
          87.9276082543443,
          88.76544547566502,
          89.56780745060581,
          90.36688540883627,
          91.14852071543757,
          91.90140831221993,
          92.63651567880909,
          93.36225496712444,
          94.08778996032173,
          94.81138141867949,
          95.51639622362987,
          96.20427864333358,
          96.8870875521914,
          97.56505018755385,
          98.23456024896822,
          98.8961923847345,
          99.47294918509627,
          100
         ],
         "yaxis": "y"
        }
       ],
       "layout": {
        "legend": {
         "title": {
          "text": "variable"
         },
         "tracegroupgap": 0
        },
        "margin": {
         "t": 60
        },
        "template": {
         "data": {
          "bar": [
           {
            "error_x": {
             "color": "#2a3f5f"
            },
            "error_y": {
             "color": "#2a3f5f"
            },
            "marker": {
             "line": {
              "color": "#E5ECF6",
              "width": 0.5
             },
             "pattern": {
              "fillmode": "overlay",
              "size": 10,
              "solidity": 0.2
             }
            },
            "type": "bar"
           }
          ],
          "barpolar": [
           {
            "marker": {
             "line": {
              "color": "#E5ECF6",
              "width": 0.5
             },
             "pattern": {
              "fillmode": "overlay",
              "size": 10,
              "solidity": 0.2
             }
            },
            "type": "barpolar"
           }
          ],
          "carpet": [
           {
            "aaxis": {
             "endlinecolor": "#2a3f5f",
             "gridcolor": "white",
             "linecolor": "white",
             "minorgridcolor": "white",
             "startlinecolor": "#2a3f5f"
            },
            "baxis": {
             "endlinecolor": "#2a3f5f",
             "gridcolor": "white",
             "linecolor": "white",
             "minorgridcolor": "white",
             "startlinecolor": "#2a3f5f"
            },
            "type": "carpet"
           }
          ],
          "choropleth": [
           {
            "colorbar": {
             "outlinewidth": 0,
             "ticks": ""
            },
            "type": "choropleth"
           }
          ],
          "contour": [
           {
            "colorbar": {
             "outlinewidth": 0,
             "ticks": ""
            },
            "colorscale": [
             [
              0,
              "#0d0887"
             ],
             [
              0.1111111111111111,
              "#46039f"
             ],
             [
              0.2222222222222222,
              "#7201a8"
             ],
             [
              0.3333333333333333,
              "#9c179e"
             ],
             [
              0.4444444444444444,
              "#bd3786"
             ],
             [
              0.5555555555555556,
              "#d8576b"
             ],
             [
              0.6666666666666666,
              "#ed7953"
             ],
             [
              0.7777777777777778,
              "#fb9f3a"
             ],
             [
              0.8888888888888888,
              "#fdca26"
             ],
             [
              1,
              "#f0f921"
             ]
            ],
            "type": "contour"
           }
          ],
          "contourcarpet": [
           {
            "colorbar": {
             "outlinewidth": 0,
             "ticks": ""
            },
            "type": "contourcarpet"
           }
          ],
          "heatmap": [
           {
            "colorbar": {
             "outlinewidth": 0,
             "ticks": ""
            },
            "colorscale": [
             [
              0,
              "#0d0887"
             ],
             [
              0.1111111111111111,
              "#46039f"
             ],
             [
              0.2222222222222222,
              "#7201a8"
             ],
             [
              0.3333333333333333,
              "#9c179e"
             ],
             [
              0.4444444444444444,
              "#bd3786"
             ],
             [
              0.5555555555555556,
              "#d8576b"
             ],
             [
              0.6666666666666666,
              "#ed7953"
             ],
             [
              0.7777777777777778,
              "#fb9f3a"
             ],
             [
              0.8888888888888888,
              "#fdca26"
             ],
             [
              1,
              "#f0f921"
             ]
            ],
            "type": "heatmap"
           }
          ],
          "heatmapgl": [
           {
            "colorbar": {
             "outlinewidth": 0,
             "ticks": ""
            },
            "colorscale": [
             [
              0,
              "#0d0887"
             ],
             [
              0.1111111111111111,
              "#46039f"
             ],
             [
              0.2222222222222222,
              "#7201a8"
             ],
             [
              0.3333333333333333,
              "#9c179e"
             ],
             [
              0.4444444444444444,
              "#bd3786"
             ],
             [
              0.5555555555555556,
              "#d8576b"
             ],
             [
              0.6666666666666666,
              "#ed7953"
             ],
             [
              0.7777777777777778,
              "#fb9f3a"
             ],
             [
              0.8888888888888888,
              "#fdca26"
             ],
             [
              1,
              "#f0f921"
             ]
            ],
            "type": "heatmapgl"
           }
          ],
          "histogram": [
           {
            "marker": {
             "pattern": {
              "fillmode": "overlay",
              "size": 10,
              "solidity": 0.2
             }
            },
            "type": "histogram"
           }
          ],
          "histogram2d": [
           {
            "colorbar": {
             "outlinewidth": 0,
             "ticks": ""
            },
            "colorscale": [
             [
              0,
              "#0d0887"
             ],
             [
              0.1111111111111111,
              "#46039f"
             ],
             [
              0.2222222222222222,
              "#7201a8"
             ],
             [
              0.3333333333333333,
              "#9c179e"
             ],
             [
              0.4444444444444444,
              "#bd3786"
             ],
             [
              0.5555555555555556,
              "#d8576b"
             ],
             [
              0.6666666666666666,
              "#ed7953"
             ],
             [
              0.7777777777777778,
              "#fb9f3a"
             ],
             [
              0.8888888888888888,
              "#fdca26"
             ],
             [
              1,
              "#f0f921"
             ]
            ],
            "type": "histogram2d"
           }
          ],
          "histogram2dcontour": [
           {
            "colorbar": {
             "outlinewidth": 0,
             "ticks": ""
            },
            "colorscale": [
             [
              0,
              "#0d0887"
             ],
             [
              0.1111111111111111,
              "#46039f"
             ],
             [
              0.2222222222222222,
              "#7201a8"
             ],
             [
              0.3333333333333333,
              "#9c179e"
             ],
             [
              0.4444444444444444,
              "#bd3786"
             ],
             [
              0.5555555555555556,
              "#d8576b"
             ],
             [
              0.6666666666666666,
              "#ed7953"
             ],
             [
              0.7777777777777778,
              "#fb9f3a"
             ],
             [
              0.8888888888888888,
              "#fdca26"
             ],
             [
              1,
              "#f0f921"
             ]
            ],
            "type": "histogram2dcontour"
           }
          ],
          "mesh3d": [
           {
            "colorbar": {
             "outlinewidth": 0,
             "ticks": ""
            },
            "type": "mesh3d"
           }
          ],
          "parcoords": [
           {
            "line": {
             "colorbar": {
              "outlinewidth": 0,
              "ticks": ""
             }
            },
            "type": "parcoords"
           }
          ],
          "pie": [
           {
            "automargin": true,
            "type": "pie"
           }
          ],
          "scatter": [
           {
            "fillpattern": {
             "fillmode": "overlay",
             "size": 10,
             "solidity": 0.2
            },
            "type": "scatter"
           }
          ],
          "scatter3d": [
           {
            "line": {
             "colorbar": {
              "outlinewidth": 0,
              "ticks": ""
             }
            },
            "marker": {
             "colorbar": {
              "outlinewidth": 0,
              "ticks": ""
             }
            },
            "type": "scatter3d"
           }
          ],
          "scattercarpet": [
           {
            "marker": {
             "colorbar": {
              "outlinewidth": 0,
              "ticks": ""
             }
            },
            "type": "scattercarpet"
           }
          ],
          "scattergeo": [
           {
            "marker": {
             "colorbar": {
              "outlinewidth": 0,
              "ticks": ""
             }
            },
            "type": "scattergeo"
           }
          ],
          "scattergl": [
           {
            "marker": {
             "colorbar": {
              "outlinewidth": 0,
              "ticks": ""
             }
            },
            "type": "scattergl"
           }
          ],
          "scattermapbox": [
           {
            "marker": {
             "colorbar": {
              "outlinewidth": 0,
              "ticks": ""
             }
            },
            "type": "scattermapbox"
           }
          ],
          "scatterpolar": [
           {
            "marker": {
             "colorbar": {
              "outlinewidth": 0,
              "ticks": ""
             }
            },
            "type": "scatterpolar"
           }
          ],
          "scatterpolargl": [
           {
            "marker": {
             "colorbar": {
              "outlinewidth": 0,
              "ticks": ""
             }
            },
            "type": "scatterpolargl"
           }
          ],
          "scatterternary": [
           {
            "marker": {
             "colorbar": {
              "outlinewidth": 0,
              "ticks": ""
             }
            },
            "type": "scatterternary"
           }
          ],
          "surface": [
           {
            "colorbar": {
             "outlinewidth": 0,
             "ticks": ""
            },
            "colorscale": [
             [
              0,
              "#0d0887"
             ],
             [
              0.1111111111111111,
              "#46039f"
             ],
             [
              0.2222222222222222,
              "#7201a8"
             ],
             [
              0.3333333333333333,
              "#9c179e"
             ],
             [
              0.4444444444444444,
              "#bd3786"
             ],
             [
              0.5555555555555556,
              "#d8576b"
             ],
             [
              0.6666666666666666,
              "#ed7953"
             ],
             [
              0.7777777777777778,
              "#fb9f3a"
             ],
             [
              0.8888888888888888,
              "#fdca26"
             ],
             [
              1,
              "#f0f921"
             ]
            ],
            "type": "surface"
           }
          ],
          "table": [
           {
            "cells": {
             "fill": {
              "color": "#EBF0F8"
             },
             "line": {
              "color": "white"
             }
            },
            "header": {
             "fill": {
              "color": "#C8D4E3"
             },
             "line": {
              "color": "white"
             }
            },
            "type": "table"
           }
          ]
         },
         "layout": {
          "annotationdefaults": {
           "arrowcolor": "#2a3f5f",
           "arrowhead": 0,
           "arrowwidth": 1
          },
          "autotypenumbers": "strict",
          "coloraxis": {
           "colorbar": {
            "outlinewidth": 0,
            "ticks": ""
           }
          },
          "colorscale": {
           "diverging": [
            [
             0,
             "#8e0152"
            ],
            [
             0.1,
             "#c51b7d"
            ],
            [
             0.2,
             "#de77ae"
            ],
            [
             0.3,
             "#f1b6da"
            ],
            [
             0.4,
             "#fde0ef"
            ],
            [
             0.5,
             "#f7f7f7"
            ],
            [
             0.6,
             "#e6f5d0"
            ],
            [
             0.7,
             "#b8e186"
            ],
            [
             0.8,
             "#7fbc41"
            ],
            [
             0.9,
             "#4d9221"
            ],
            [
             1,
             "#276419"
            ]
           ],
           "sequential": [
            [
             0,
             "#0d0887"
            ],
            [
             0.1111111111111111,
             "#46039f"
            ],
            [
             0.2222222222222222,
             "#7201a8"
            ],
            [
             0.3333333333333333,
             "#9c179e"
            ],
            [
             0.4444444444444444,
             "#bd3786"
            ],
            [
             0.5555555555555556,
             "#d8576b"
            ],
            [
             0.6666666666666666,
             "#ed7953"
            ],
            [
             0.7777777777777778,
             "#fb9f3a"
            ],
            [
             0.8888888888888888,
             "#fdca26"
            ],
            [
             1,
             "#f0f921"
            ]
           ],
           "sequentialminus": [
            [
             0,
             "#0d0887"
            ],
            [
             0.1111111111111111,
             "#46039f"
            ],
            [
             0.2222222222222222,
             "#7201a8"
            ],
            [
             0.3333333333333333,
             "#9c179e"
            ],
            [
             0.4444444444444444,
             "#bd3786"
            ],
            [
             0.5555555555555556,
             "#d8576b"
            ],
            [
             0.6666666666666666,
             "#ed7953"
            ],
            [
             0.7777777777777778,
             "#fb9f3a"
            ],
            [
             0.8888888888888888,
             "#fdca26"
            ],
            [
             1,
             "#f0f921"
            ]
           ]
          },
          "colorway": [
           "#636efa",
           "#EF553B",
           "#00cc96",
           "#ab63fa",
           "#FFA15A",
           "#19d3f3",
           "#FF6692",
           "#B6E880",
           "#FF97FF",
           "#FECB52"
          ],
          "font": {
           "color": "#2a3f5f"
          },
          "geo": {
           "bgcolor": "white",
           "lakecolor": "white",
           "landcolor": "#E5ECF6",
           "showlakes": true,
           "showland": true,
           "subunitcolor": "white"
          },
          "hoverlabel": {
           "align": "left"
          },
          "hovermode": "closest",
          "mapbox": {
           "style": "light"
          },
          "paper_bgcolor": "white",
          "plot_bgcolor": "#E5ECF6",
          "polar": {
           "angularaxis": {
            "gridcolor": "white",
            "linecolor": "white",
            "ticks": ""
           },
           "bgcolor": "#E5ECF6",
           "radialaxis": {
            "gridcolor": "white",
            "linecolor": "white",
            "ticks": ""
           }
          },
          "scene": {
           "xaxis": {
            "backgroundcolor": "#E5ECF6",
            "gridcolor": "white",
            "gridwidth": 2,
            "linecolor": "white",
            "showbackground": true,
            "ticks": "",
            "zerolinecolor": "white"
           },
           "yaxis": {
            "backgroundcolor": "#E5ECF6",
            "gridcolor": "white",
            "gridwidth": 2,
            "linecolor": "white",
            "showbackground": true,
            "ticks": "",
            "zerolinecolor": "white"
           },
           "zaxis": {
            "backgroundcolor": "#E5ECF6",
            "gridcolor": "white",
            "gridwidth": 2,
            "linecolor": "white",
            "showbackground": true,
            "ticks": "",
            "zerolinecolor": "white"
           }
          },
          "shapedefaults": {
           "line": {
            "color": "#2a3f5f"
           }
          },
          "ternary": {
           "aaxis": {
            "gridcolor": "white",
            "linecolor": "white",
            "ticks": ""
           },
           "baxis": {
            "gridcolor": "white",
            "linecolor": "white",
            "ticks": ""
           },
           "bgcolor": "#E5ECF6",
           "caxis": {
            "gridcolor": "white",
            "linecolor": "white",
            "ticks": ""
           }
          },
          "title": {
           "x": 0.05
          },
          "xaxis": {
           "automargin": true,
           "gridcolor": "white",
           "linecolor": "white",
           "ticks": "",
           "title": {
            "standoff": 15
           },
           "zerolinecolor": "white",
           "zerolinewidth": 2
          },
          "yaxis": {
           "automargin": true,
           "gridcolor": "white",
           "linecolor": "white",
           "ticks": "",
           "title": {
            "standoff": 15
           },
           "zerolinecolor": "white",
           "zerolinewidth": 2
          }
         }
        },
        "xaxis": {
         "anchor": "y",
         "domain": [
          0,
          1
         ],
         "title": {
          "text": "index"
         }
        },
        "yaxis": {
         "anchor": "x",
         "domain": [
          0,
          1
         ],
         "title": {
          "text": "value"
         }
        }
       }
      }
     },
     "metadata": {},
     "output_type": "display_data"
    }
   ],
   "source": [
    "px.line(result['cumulative_percentage'])"
   ]
  },
  {
   "cell_type": "code",
   "execution_count": 25,
   "metadata": {},
   "outputs": [
    {
     "data": {
      "application/vnd.plotly.v1+json": {
       "config": {
        "plotlyServerURL": "https://plot.ly"
       },
       "data": [
        {
         "name": "total_inventory_sum",
         "type": "bar",
         "x": [
          "Gyeser 13",
          "Appliance 20",
          "Appliance 18",
          "Fan 6",
          "Appliance 2",
          "Gyeser 6",
          "Gyeser 9",
          "Fan 8",
          "Appliance 4",
          "Fan 16",
          "Fan 14",
          "Lighting 12",
          "Appliance 12",
          "Lighting 8",
          "Lighting 7",
          "Appliance 6",
          "Gyeser 20",
          "Lighting 15",
          "Lighting 11",
          "Appliance 3",
          "Lighting 6",
          "Lighting 9",
          "Fan 18",
          "Fan 15",
          "Appliance 8",
          "Fan 20",
          "Appliance 16",
          "Appliance 13",
          "Gyeser 10",
          "Gyeser 11",
          "Lighting 5",
          "Gyeser 3",
          "Appliance 19",
          "Gyeser 16",
          "Appliance 1",
          "Fan 2",
          "Fan 12",
          "Fan 11",
          "Fan 17",
          "Appliance 11",
          "Fan 7",
          "Appliance 15",
          "Lighting 3",
          "Lighting 18",
          "Gyeser 4",
          "Fan 3",
          "Fan 5",
          "Gyeser 15",
          "Gyeser 7",
          "Gyeser 19",
          "Appliance 5",
          "Appliance 9",
          "Gyeser 14",
          "Lighting 20",
          "Fan 1",
          "Gyeser 1",
          "Lighting 14",
          "Lighting 13",
          "Lighting 10",
          "Lighting 4",
          "Appliance 17",
          "Gyeser 2",
          "Fan 9",
          "Fan 4",
          "Appliance 7",
          "Fan 13",
          "Appliance 10",
          "Fan 19",
          "Lighting 1",
          "Lighting 16",
          "Gyeser 5",
          "Gyeser 18",
          "Lighting 17",
          "Lighting 19",
          "Lighting 2",
          "Appliance 14",
          "Gyeser 12",
          "Fan 10",
          "Gyeser 17",
          "Gyeser 8"
         ],
         "xaxis": "x",
         "y": [
          2037552,
          1716543,
          1705184,
          1680365,
          1671520,
          1670256,
          1621664,
          1597155,
          1590875,
          1589530,
          1589293,
          1585423,
          1572096,
          1546425,
          1528512,
          1523592,
          1515120,
          1514768,
          1497834,
          1460730,
          1459689,
          1446848,
          1441128,
          1394934,
          1385132,
          1376892,
          1369520,
          1361926,
          1349200,
          1321734,
          1315748,
          1281684,
          1277646,
          1251522,
          1238285,
          1188832,
          1169903,
          1162560,
          1122354,
          1117584,
          1109290,
          1098015,
          1097270,
          1097100,
          1093924,
          1087275,
          1081347,
          1079100,
          1063518,
          1032118,
          1011609,
          979680,
          935664,
          920634,
          918202,
          906160,
          870058,
          869539,
          831906,
          816480,
          788320,
          777700,
          771408,
          766908,
          734436,
          731430,
          715464,
          689150,
          672875,
          664300,
          664113,
          662334,
          645330,
          629648,
          625004,
          620568,
          612831,
          605620,
          527930,
          482432
         ],
         "yaxis": "y"
        }
       ],
       "layout": {
        "template": {
         "data": {
          "bar": [
           {
            "error_x": {
             "color": "#2a3f5f"
            },
            "error_y": {
             "color": "#2a3f5f"
            },
            "marker": {
             "line": {
              "color": "#E5ECF6",
              "width": 0.5
             },
             "pattern": {
              "fillmode": "overlay",
              "size": 10,
              "solidity": 0.2
             }
            },
            "type": "bar"
           }
          ],
          "barpolar": [
           {
            "marker": {
             "line": {
              "color": "#E5ECF6",
              "width": 0.5
             },
             "pattern": {
              "fillmode": "overlay",
              "size": 10,
              "solidity": 0.2
             }
            },
            "type": "barpolar"
           }
          ],
          "carpet": [
           {
            "aaxis": {
             "endlinecolor": "#2a3f5f",
             "gridcolor": "white",
             "linecolor": "white",
             "minorgridcolor": "white",
             "startlinecolor": "#2a3f5f"
            },
            "baxis": {
             "endlinecolor": "#2a3f5f",
             "gridcolor": "white",
             "linecolor": "white",
             "minorgridcolor": "white",
             "startlinecolor": "#2a3f5f"
            },
            "type": "carpet"
           }
          ],
          "choropleth": [
           {
            "colorbar": {
             "outlinewidth": 0,
             "ticks": ""
            },
            "type": "choropleth"
           }
          ],
          "contour": [
           {
            "colorbar": {
             "outlinewidth": 0,
             "ticks": ""
            },
            "colorscale": [
             [
              0,
              "#0d0887"
             ],
             [
              0.1111111111111111,
              "#46039f"
             ],
             [
              0.2222222222222222,
              "#7201a8"
             ],
             [
              0.3333333333333333,
              "#9c179e"
             ],
             [
              0.4444444444444444,
              "#bd3786"
             ],
             [
              0.5555555555555556,
              "#d8576b"
             ],
             [
              0.6666666666666666,
              "#ed7953"
             ],
             [
              0.7777777777777778,
              "#fb9f3a"
             ],
             [
              0.8888888888888888,
              "#fdca26"
             ],
             [
              1,
              "#f0f921"
             ]
            ],
            "type": "contour"
           }
          ],
          "contourcarpet": [
           {
            "colorbar": {
             "outlinewidth": 0,
             "ticks": ""
            },
            "type": "contourcarpet"
           }
          ],
          "heatmap": [
           {
            "colorbar": {
             "outlinewidth": 0,
             "ticks": ""
            },
            "colorscale": [
             [
              0,
              "#0d0887"
             ],
             [
              0.1111111111111111,
              "#46039f"
             ],
             [
              0.2222222222222222,
              "#7201a8"
             ],
             [
              0.3333333333333333,
              "#9c179e"
             ],
             [
              0.4444444444444444,
              "#bd3786"
             ],
             [
              0.5555555555555556,
              "#d8576b"
             ],
             [
              0.6666666666666666,
              "#ed7953"
             ],
             [
              0.7777777777777778,
              "#fb9f3a"
             ],
             [
              0.8888888888888888,
              "#fdca26"
             ],
             [
              1,
              "#f0f921"
             ]
            ],
            "type": "heatmap"
           }
          ],
          "heatmapgl": [
           {
            "colorbar": {
             "outlinewidth": 0,
             "ticks": ""
            },
            "colorscale": [
             [
              0,
              "#0d0887"
             ],
             [
              0.1111111111111111,
              "#46039f"
             ],
             [
              0.2222222222222222,
              "#7201a8"
             ],
             [
              0.3333333333333333,
              "#9c179e"
             ],
             [
              0.4444444444444444,
              "#bd3786"
             ],
             [
              0.5555555555555556,
              "#d8576b"
             ],
             [
              0.6666666666666666,
              "#ed7953"
             ],
             [
              0.7777777777777778,
              "#fb9f3a"
             ],
             [
              0.8888888888888888,
              "#fdca26"
             ],
             [
              1,
              "#f0f921"
             ]
            ],
            "type": "heatmapgl"
           }
          ],
          "histogram": [
           {
            "marker": {
             "pattern": {
              "fillmode": "overlay",
              "size": 10,
              "solidity": 0.2
             }
            },
            "type": "histogram"
           }
          ],
          "histogram2d": [
           {
            "colorbar": {
             "outlinewidth": 0,
             "ticks": ""
            },
            "colorscale": [
             [
              0,
              "#0d0887"
             ],
             [
              0.1111111111111111,
              "#46039f"
             ],
             [
              0.2222222222222222,
              "#7201a8"
             ],
             [
              0.3333333333333333,
              "#9c179e"
             ],
             [
              0.4444444444444444,
              "#bd3786"
             ],
             [
              0.5555555555555556,
              "#d8576b"
             ],
             [
              0.6666666666666666,
              "#ed7953"
             ],
             [
              0.7777777777777778,
              "#fb9f3a"
             ],
             [
              0.8888888888888888,
              "#fdca26"
             ],
             [
              1,
              "#f0f921"
             ]
            ],
            "type": "histogram2d"
           }
          ],
          "histogram2dcontour": [
           {
            "colorbar": {
             "outlinewidth": 0,
             "ticks": ""
            },
            "colorscale": [
             [
              0,
              "#0d0887"
             ],
             [
              0.1111111111111111,
              "#46039f"
             ],
             [
              0.2222222222222222,
              "#7201a8"
             ],
             [
              0.3333333333333333,
              "#9c179e"
             ],
             [
              0.4444444444444444,
              "#bd3786"
             ],
             [
              0.5555555555555556,
              "#d8576b"
             ],
             [
              0.6666666666666666,
              "#ed7953"
             ],
             [
              0.7777777777777778,
              "#fb9f3a"
             ],
             [
              0.8888888888888888,
              "#fdca26"
             ],
             [
              1,
              "#f0f921"
             ]
            ],
            "type": "histogram2dcontour"
           }
          ],
          "mesh3d": [
           {
            "colorbar": {
             "outlinewidth": 0,
             "ticks": ""
            },
            "type": "mesh3d"
           }
          ],
          "parcoords": [
           {
            "line": {
             "colorbar": {
              "outlinewidth": 0,
              "ticks": ""
             }
            },
            "type": "parcoords"
           }
          ],
          "pie": [
           {
            "automargin": true,
            "type": "pie"
           }
          ],
          "scatter": [
           {
            "fillpattern": {
             "fillmode": "overlay",
             "size": 10,
             "solidity": 0.2
            },
            "type": "scatter"
           }
          ],
          "scatter3d": [
           {
            "line": {
             "colorbar": {
              "outlinewidth": 0,
              "ticks": ""
             }
            },
            "marker": {
             "colorbar": {
              "outlinewidth": 0,
              "ticks": ""
             }
            },
            "type": "scatter3d"
           }
          ],
          "scattercarpet": [
           {
            "marker": {
             "colorbar": {
              "outlinewidth": 0,
              "ticks": ""
             }
            },
            "type": "scattercarpet"
           }
          ],
          "scattergeo": [
           {
            "marker": {
             "colorbar": {
              "outlinewidth": 0,
              "ticks": ""
             }
            },
            "type": "scattergeo"
           }
          ],
          "scattergl": [
           {
            "marker": {
             "colorbar": {
              "outlinewidth": 0,
              "ticks": ""
             }
            },
            "type": "scattergl"
           }
          ],
          "scattermapbox": [
           {
            "marker": {
             "colorbar": {
              "outlinewidth": 0,
              "ticks": ""
             }
            },
            "type": "scattermapbox"
           }
          ],
          "scatterpolar": [
           {
            "marker": {
             "colorbar": {
              "outlinewidth": 0,
              "ticks": ""
             }
            },
            "type": "scatterpolar"
           }
          ],
          "scatterpolargl": [
           {
            "marker": {
             "colorbar": {
              "outlinewidth": 0,
              "ticks": ""
             }
            },
            "type": "scatterpolargl"
           }
          ],
          "scatterternary": [
           {
            "marker": {
             "colorbar": {
              "outlinewidth": 0,
              "ticks": ""
             }
            },
            "type": "scatterternary"
           }
          ],
          "surface": [
           {
            "colorbar": {
             "outlinewidth": 0,
             "ticks": ""
            },
            "colorscale": [
             [
              0,
              "#0d0887"
             ],
             [
              0.1111111111111111,
              "#46039f"
             ],
             [
              0.2222222222222222,
              "#7201a8"
             ],
             [
              0.3333333333333333,
              "#9c179e"
             ],
             [
              0.4444444444444444,
              "#bd3786"
             ],
             [
              0.5555555555555556,
              "#d8576b"
             ],
             [
              0.6666666666666666,
              "#ed7953"
             ],
             [
              0.7777777777777778,
              "#fb9f3a"
             ],
             [
              0.8888888888888888,
              "#fdca26"
             ],
             [
              1,
              "#f0f921"
             ]
            ],
            "type": "surface"
           }
          ],
          "table": [
           {
            "cells": {
             "fill": {
              "color": "#EBF0F8"
             },
             "line": {
              "color": "white"
             }
            },
            "header": {
             "fill": {
              "color": "#C8D4E3"
             },
             "line": {
              "color": "white"
             }
            },
            "type": "table"
           }
          ]
         },
         "layout": {
          "annotationdefaults": {
           "arrowcolor": "#2a3f5f",
           "arrowhead": 0,
           "arrowwidth": 1
          },
          "autotypenumbers": "strict",
          "coloraxis": {
           "colorbar": {
            "outlinewidth": 0,
            "ticks": ""
           }
          },
          "colorscale": {
           "diverging": [
            [
             0,
             "#8e0152"
            ],
            [
             0.1,
             "#c51b7d"
            ],
            [
             0.2,
             "#de77ae"
            ],
            [
             0.3,
             "#f1b6da"
            ],
            [
             0.4,
             "#fde0ef"
            ],
            [
             0.5,
             "#f7f7f7"
            ],
            [
             0.6,
             "#e6f5d0"
            ],
            [
             0.7,
             "#b8e186"
            ],
            [
             0.8,
             "#7fbc41"
            ],
            [
             0.9,
             "#4d9221"
            ],
            [
             1,
             "#276419"
            ]
           ],
           "sequential": [
            [
             0,
             "#0d0887"
            ],
            [
             0.1111111111111111,
             "#46039f"
            ],
            [
             0.2222222222222222,
             "#7201a8"
            ],
            [
             0.3333333333333333,
             "#9c179e"
            ],
            [
             0.4444444444444444,
             "#bd3786"
            ],
            [
             0.5555555555555556,
             "#d8576b"
            ],
            [
             0.6666666666666666,
             "#ed7953"
            ],
            [
             0.7777777777777778,
             "#fb9f3a"
            ],
            [
             0.8888888888888888,
             "#fdca26"
            ],
            [
             1,
             "#f0f921"
            ]
           ],
           "sequentialminus": [
            [
             0,
             "#0d0887"
            ],
            [
             0.1111111111111111,
             "#46039f"
            ],
            [
             0.2222222222222222,
             "#7201a8"
            ],
            [
             0.3333333333333333,
             "#9c179e"
            ],
            [
             0.4444444444444444,
             "#bd3786"
            ],
            [
             0.5555555555555556,
             "#d8576b"
            ],
            [
             0.6666666666666666,
             "#ed7953"
            ],
            [
             0.7777777777777778,
             "#fb9f3a"
            ],
            [
             0.8888888888888888,
             "#fdca26"
            ],
            [
             1,
             "#f0f921"
            ]
           ]
          },
          "colorway": [
           "#636efa",
           "#EF553B",
           "#00cc96",
           "#ab63fa",
           "#FFA15A",
           "#19d3f3",
           "#FF6692",
           "#B6E880",
           "#FF97FF",
           "#FECB52"
          ],
          "font": {
           "color": "#2a3f5f"
          },
          "geo": {
           "bgcolor": "white",
           "lakecolor": "white",
           "landcolor": "#E5ECF6",
           "showlakes": true,
           "showland": true,
           "subunitcolor": "white"
          },
          "hoverlabel": {
           "align": "left"
          },
          "hovermode": "closest",
          "mapbox": {
           "style": "light"
          },
          "paper_bgcolor": "white",
          "plot_bgcolor": "#E5ECF6",
          "polar": {
           "angularaxis": {
            "gridcolor": "white",
            "linecolor": "white",
            "ticks": ""
           },
           "bgcolor": "#E5ECF6",
           "radialaxis": {
            "gridcolor": "white",
            "linecolor": "white",
            "ticks": ""
           }
          },
          "scene": {
           "xaxis": {
            "backgroundcolor": "#E5ECF6",
            "gridcolor": "white",
            "gridwidth": 2,
            "linecolor": "white",
            "showbackground": true,
            "ticks": "",
            "zerolinecolor": "white"
           },
           "yaxis": {
            "backgroundcolor": "#E5ECF6",
            "gridcolor": "white",
            "gridwidth": 2,
            "linecolor": "white",
            "showbackground": true,
            "ticks": "",
            "zerolinecolor": "white"
           },
           "zaxis": {
            "backgroundcolor": "#E5ECF6",
            "gridcolor": "white",
            "gridwidth": 2,
            "linecolor": "white",
            "showbackground": true,
            "ticks": "",
            "zerolinecolor": "white"
           }
          },
          "shapedefaults": {
           "line": {
            "color": "#2a3f5f"
           }
          },
          "ternary": {
           "aaxis": {
            "gridcolor": "white",
            "linecolor": "white",
            "ticks": ""
           },
           "baxis": {
            "gridcolor": "white",
            "linecolor": "white",
            "ticks": ""
           },
           "bgcolor": "#E5ECF6",
           "caxis": {
            "gridcolor": "white",
            "linecolor": "white",
            "ticks": ""
           }
          },
          "title": {
           "x": 0.05
          },
          "xaxis": {
           "automargin": true,
           "gridcolor": "white",
           "linecolor": "white",
           "ticks": "",
           "title": {
            "standoff": 15
           },
           "zerolinecolor": "white",
           "zerolinewidth": 2
          },
          "yaxis": {
           "automargin": true,
           "gridcolor": "white",
           "linecolor": "white",
           "ticks": "",
           "title": {
            "standoff": 15
           },
           "zerolinecolor": "white",
           "zerolinewidth": 2
          }
         }
        },
        "xaxis": {
         "anchor": "y",
         "domain": [
          0,
          0.94
         ]
        },
        "yaxis": {
         "anchor": "x",
         "domain": [
          0,
          1
         ]
        },
        "yaxis2": {
         "anchor": "x",
         "overlaying": "y",
         "side": "right"
        }
       }
      }
     },
     "metadata": {},
     "output_type": "display_data"
    }
   ],
   "source": [
    "import plotly.graph_objects as go\n",
    "from plotly.subplots import make_subplots\n",
    "result=results\n",
    "# Create figure with secondary y-axis\n",
    "fig = make_subplots(specs=[[{\"secondary_y\": True}]])\n",
    "result = result.sort_values(by='total_price_sum',ascending=False)\n",
    "\n",
    "fig.add_trace(go.Bar(x=result['product_code'], \n",
    "    y=result['total_price_sum'], name='total_inventory_sum'),\n",
    "    secondary_y=False,\n",
    ")\n"
   ]
  },
  {
   "cell_type": "code",
   "execution_count": 110,
   "metadata": {},
   "outputs": [
    {
     "data": {
      "application/vnd.plotly.v1+json": {
       "config": {
        "plotlyServerURL": "https://plot.ly"
       },
       "data": [
        {
         "name": "total_inventory_sum",
         "type": "bar",
         "x": [
          "Gyeser 13",
          "Appliance 20",
          "Appliance 18",
          "Fan 6",
          "Appliance 2",
          "Gyeser 6",
          "Gyeser 9",
          "Fan 8",
          "Appliance 4",
          "Fan 16",
          "Fan 14",
          "Lighting 12",
          "Appliance 12",
          "Lighting 8",
          "Lighting 7",
          "Appliance 6",
          "Gyeser 20",
          "Lighting 15",
          "Lighting 11",
          "Appliance 3",
          "Lighting 6",
          "Lighting 9",
          "Fan 18",
          "Fan 15",
          "Appliance 8",
          "Fan 20",
          "Appliance 16",
          "Appliance 13",
          "Gyeser 10",
          "Gyeser 11",
          "Lighting 5",
          "Gyeser 3",
          "Appliance 19",
          "Gyeser 16",
          "Appliance 1",
          "Fan 2",
          "Fan 12",
          "Fan 11",
          "Fan 17",
          "Appliance 11",
          "Fan 7",
          "Appliance 15",
          "Lighting 3",
          "Lighting 18",
          "Gyeser 4",
          "Fan 3",
          "Fan 5",
          "Gyeser 15",
          "Gyeser 7",
          "Gyeser 19",
          "Appliance 5",
          "Appliance 9",
          "Gyeser 14",
          "Lighting 20",
          "Fan 1",
          "Gyeser 1",
          "Lighting 14",
          "Lighting 13",
          "Lighting 10",
          "Lighting 4",
          "Appliance 17",
          "Gyeser 2",
          "Fan 9",
          "Fan 4",
          "Appliance 7",
          "Fan 13",
          "Appliance 10",
          "Fan 19",
          "Lighting 1",
          "Lighting 16",
          "Gyeser 5",
          "Gyeser 18",
          "Lighting 17",
          "Lighting 19",
          "Lighting 2",
          "Appliance 14",
          "Gyeser 12",
          "Fan 10",
          "Gyeser 17",
          "Gyeser 8"
         ],
         "xaxis": "x",
         "y": [
          2037552,
          1716543,
          1705184,
          1680365,
          1671520,
          1670256,
          1621664,
          1597155,
          1590875,
          1589530,
          1589293,
          1585423,
          1572096,
          1546425,
          1528512,
          1523592,
          1515120,
          1514768,
          1497834,
          1460730,
          1459689,
          1446848,
          1441128,
          1394934,
          1385132,
          1376892,
          1369520,
          1361926,
          1349200,
          1321734,
          1315748,
          1281684,
          1277646,
          1251522,
          1238285,
          1188832,
          1169903,
          1162560,
          1122354,
          1117584,
          1109290,
          1098015,
          1097270,
          1097100,
          1093924,
          1087275,
          1081347,
          1079100,
          1063518,
          1032118,
          1011609,
          979680,
          935664,
          920634,
          918202,
          906160,
          870058,
          869539,
          831906,
          816480,
          788320,
          777700,
          771408,
          766908,
          734436,
          731430,
          715464,
          689150,
          672875,
          664300,
          664113,
          662334,
          645330,
          629648,
          625004,
          620568,
          612831,
          605620,
          527930,
          482432
         ],
         "yaxis": "y"
        },
        {
         "name": "cumulative_percentage",
         "type": "scatter",
         "x": [
          "Gyeser 13",
          "Appliance 20",
          "Appliance 18",
          "Fan 6",
          "Appliance 2",
          "Gyeser 6",
          "Gyeser 9",
          "Fan 8",
          "Appliance 4",
          "Fan 16",
          "Fan 14",
          "Lighting 12",
          "Appliance 12",
          "Lighting 8",
          "Lighting 7",
          "Appliance 6",
          "Gyeser 20",
          "Lighting 15",
          "Lighting 11",
          "Appliance 3",
          "Lighting 6",
          "Lighting 9",
          "Fan 18",
          "Fan 15",
          "Appliance 8",
          "Fan 20",
          "Appliance 16",
          "Appliance 13",
          "Gyeser 10",
          "Gyeser 11",
          "Lighting 5",
          "Gyeser 3",
          "Appliance 19",
          "Gyeser 16",
          "Appliance 1",
          "Fan 2",
          "Fan 12",
          "Fan 11",
          "Fan 17",
          "Appliance 11",
          "Fan 7",
          "Appliance 15",
          "Lighting 3",
          "Lighting 18",
          "Gyeser 4",
          "Fan 3",
          "Fan 5",
          "Gyeser 15",
          "Gyeser 7",
          "Gyeser 19",
          "Appliance 5",
          "Appliance 9",
          "Gyeser 14",
          "Lighting 20",
          "Fan 1",
          "Gyeser 1",
          "Lighting 14",
          "Lighting 13",
          "Lighting 10",
          "Lighting 4",
          "Appliance 17",
          "Gyeser 2",
          "Fan 9",
          "Fan 4",
          "Appliance 7",
          "Fan 13",
          "Appliance 10",
          "Fan 19",
          "Lighting 1",
          "Lighting 16",
          "Gyeser 5",
          "Gyeser 18",
          "Lighting 17",
          "Lighting 19",
          "Lighting 2",
          "Appliance 14",
          "Gyeser 12",
          "Fan 10",
          "Gyeser 17",
          "Gyeser 8"
         ],
         "xaxis": "x",
         "y": [
          2.2259996061801917,
          4.1013009687914845,
          5.964192768590834,
          7.799970127028301,
          9.626084435631132,
          11.450817840334473,
          13.222465103990366,
          14.967336597335676,
          16.705347270674032,
          18.441888548644656,
          20.178170907134124,
          21.91022533991867,
          23.62772019495916,
          25.317169809490323,
          26.987049699692733,
          28.65155455256485,
          30.30680385335115,
          31.96166859862114,
          33.598033164592124,
          35.19386208318443,
          36.788553722536726,
          38.36921673295443,
          39.94363071623203,
          41.467578342917065,
          42.980817409457494,
          44.48505438095695,
          45.98123753635907,
          47.46912434349163,
          48.943108157724744,
          50.3870857168128,
          51.82452364714899,
          53.22474709138376,
          54.62055907205355,
          55.987830915484224,
          57.340641505024436,
          58.639425321984405,
          59.91752944755716,
          61.18761143916318,
          62.41376888790303,
          63.634715172401926,
          64.84660036754768,
          66.04616776881151,
          67.24492126706498,
          68.44348904248386,
          69.63858707835782,
          70.82642116642506,
          72.00777899000165,
          73.18668199469995,
          74.34856186287782,
          75.4761376310209,
          76.58130757790242,
          77.65159549898743,
          78.67379650073708,
          79.67957741893504,
          80.6827014081112,
          81.6726696656753,
          82.6231969480975,
          83.5731572296306,
          84.48200393802328,
          85.37399793790844,
          86.23522749648853,
          87.08485484034347,
          87.9276082543443,
          88.76544547566502,
          89.56780745060581,
          90.36688540883627,
          91.14852071543757,
          91.90140831221993,
          92.63651567880909,
          93.36225496712444,
          94.08778996032173,
          94.81138141867949,
          95.51639622362987,
          96.20427864333358,
          96.8870875521914,
          97.56505018755385,
          98.23456024896822,
          98.8961923847345,
          99.47294918509627,
          100
         ],
         "yaxis": "y2"
        }
       ],
       "layout": {
        "template": {
         "data": {
          "bar": [
           {
            "error_x": {
             "color": "#2a3f5f"
            },
            "error_y": {
             "color": "#2a3f5f"
            },
            "marker": {
             "line": {
              "color": "#E5ECF6",
              "width": 0.5
             },
             "pattern": {
              "fillmode": "overlay",
              "size": 10,
              "solidity": 0.2
             }
            },
            "type": "bar"
           }
          ],
          "barpolar": [
           {
            "marker": {
             "line": {
              "color": "#E5ECF6",
              "width": 0.5
             },
             "pattern": {
              "fillmode": "overlay",
              "size": 10,
              "solidity": 0.2
             }
            },
            "type": "barpolar"
           }
          ],
          "carpet": [
           {
            "aaxis": {
             "endlinecolor": "#2a3f5f",
             "gridcolor": "white",
             "linecolor": "white",
             "minorgridcolor": "white",
             "startlinecolor": "#2a3f5f"
            },
            "baxis": {
             "endlinecolor": "#2a3f5f",
             "gridcolor": "white",
             "linecolor": "white",
             "minorgridcolor": "white",
             "startlinecolor": "#2a3f5f"
            },
            "type": "carpet"
           }
          ],
          "choropleth": [
           {
            "colorbar": {
             "outlinewidth": 0,
             "ticks": ""
            },
            "type": "choropleth"
           }
          ],
          "contour": [
           {
            "colorbar": {
             "outlinewidth": 0,
             "ticks": ""
            },
            "colorscale": [
             [
              0,
              "#0d0887"
             ],
             [
              0.1111111111111111,
              "#46039f"
             ],
             [
              0.2222222222222222,
              "#7201a8"
             ],
             [
              0.3333333333333333,
              "#9c179e"
             ],
             [
              0.4444444444444444,
              "#bd3786"
             ],
             [
              0.5555555555555556,
              "#d8576b"
             ],
             [
              0.6666666666666666,
              "#ed7953"
             ],
             [
              0.7777777777777778,
              "#fb9f3a"
             ],
             [
              0.8888888888888888,
              "#fdca26"
             ],
             [
              1,
              "#f0f921"
             ]
            ],
            "type": "contour"
           }
          ],
          "contourcarpet": [
           {
            "colorbar": {
             "outlinewidth": 0,
             "ticks": ""
            },
            "type": "contourcarpet"
           }
          ],
          "heatmap": [
           {
            "colorbar": {
             "outlinewidth": 0,
             "ticks": ""
            },
            "colorscale": [
             [
              0,
              "#0d0887"
             ],
             [
              0.1111111111111111,
              "#46039f"
             ],
             [
              0.2222222222222222,
              "#7201a8"
             ],
             [
              0.3333333333333333,
              "#9c179e"
             ],
             [
              0.4444444444444444,
              "#bd3786"
             ],
             [
              0.5555555555555556,
              "#d8576b"
             ],
             [
              0.6666666666666666,
              "#ed7953"
             ],
             [
              0.7777777777777778,
              "#fb9f3a"
             ],
             [
              0.8888888888888888,
              "#fdca26"
             ],
             [
              1,
              "#f0f921"
             ]
            ],
            "type": "heatmap"
           }
          ],
          "heatmapgl": [
           {
            "colorbar": {
             "outlinewidth": 0,
             "ticks": ""
            },
            "colorscale": [
             [
              0,
              "#0d0887"
             ],
             [
              0.1111111111111111,
              "#46039f"
             ],
             [
              0.2222222222222222,
              "#7201a8"
             ],
             [
              0.3333333333333333,
              "#9c179e"
             ],
             [
              0.4444444444444444,
              "#bd3786"
             ],
             [
              0.5555555555555556,
              "#d8576b"
             ],
             [
              0.6666666666666666,
              "#ed7953"
             ],
             [
              0.7777777777777778,
              "#fb9f3a"
             ],
             [
              0.8888888888888888,
              "#fdca26"
             ],
             [
              1,
              "#f0f921"
             ]
            ],
            "type": "heatmapgl"
           }
          ],
          "histogram": [
           {
            "marker": {
             "pattern": {
              "fillmode": "overlay",
              "size": 10,
              "solidity": 0.2
             }
            },
            "type": "histogram"
           }
          ],
          "histogram2d": [
           {
            "colorbar": {
             "outlinewidth": 0,
             "ticks": ""
            },
            "colorscale": [
             [
              0,
              "#0d0887"
             ],
             [
              0.1111111111111111,
              "#46039f"
             ],
             [
              0.2222222222222222,
              "#7201a8"
             ],
             [
              0.3333333333333333,
              "#9c179e"
             ],
             [
              0.4444444444444444,
              "#bd3786"
             ],
             [
              0.5555555555555556,
              "#d8576b"
             ],
             [
              0.6666666666666666,
              "#ed7953"
             ],
             [
              0.7777777777777778,
              "#fb9f3a"
             ],
             [
              0.8888888888888888,
              "#fdca26"
             ],
             [
              1,
              "#f0f921"
             ]
            ],
            "type": "histogram2d"
           }
          ],
          "histogram2dcontour": [
           {
            "colorbar": {
             "outlinewidth": 0,
             "ticks": ""
            },
            "colorscale": [
             [
              0,
              "#0d0887"
             ],
             [
              0.1111111111111111,
              "#46039f"
             ],
             [
              0.2222222222222222,
              "#7201a8"
             ],
             [
              0.3333333333333333,
              "#9c179e"
             ],
             [
              0.4444444444444444,
              "#bd3786"
             ],
             [
              0.5555555555555556,
              "#d8576b"
             ],
             [
              0.6666666666666666,
              "#ed7953"
             ],
             [
              0.7777777777777778,
              "#fb9f3a"
             ],
             [
              0.8888888888888888,
              "#fdca26"
             ],
             [
              1,
              "#f0f921"
             ]
            ],
            "type": "histogram2dcontour"
           }
          ],
          "mesh3d": [
           {
            "colorbar": {
             "outlinewidth": 0,
             "ticks": ""
            },
            "type": "mesh3d"
           }
          ],
          "parcoords": [
           {
            "line": {
             "colorbar": {
              "outlinewidth": 0,
              "ticks": ""
             }
            },
            "type": "parcoords"
           }
          ],
          "pie": [
           {
            "automargin": true,
            "type": "pie"
           }
          ],
          "scatter": [
           {
            "fillpattern": {
             "fillmode": "overlay",
             "size": 10,
             "solidity": 0.2
            },
            "type": "scatter"
           }
          ],
          "scatter3d": [
           {
            "line": {
             "colorbar": {
              "outlinewidth": 0,
              "ticks": ""
             }
            },
            "marker": {
             "colorbar": {
              "outlinewidth": 0,
              "ticks": ""
             }
            },
            "type": "scatter3d"
           }
          ],
          "scattercarpet": [
           {
            "marker": {
             "colorbar": {
              "outlinewidth": 0,
              "ticks": ""
             }
            },
            "type": "scattercarpet"
           }
          ],
          "scattergeo": [
           {
            "marker": {
             "colorbar": {
              "outlinewidth": 0,
              "ticks": ""
             }
            },
            "type": "scattergeo"
           }
          ],
          "scattergl": [
           {
            "marker": {
             "colorbar": {
              "outlinewidth": 0,
              "ticks": ""
             }
            },
            "type": "scattergl"
           }
          ],
          "scattermapbox": [
           {
            "marker": {
             "colorbar": {
              "outlinewidth": 0,
              "ticks": ""
             }
            },
            "type": "scattermapbox"
           }
          ],
          "scatterpolar": [
           {
            "marker": {
             "colorbar": {
              "outlinewidth": 0,
              "ticks": ""
             }
            },
            "type": "scatterpolar"
           }
          ],
          "scatterpolargl": [
           {
            "marker": {
             "colorbar": {
              "outlinewidth": 0,
              "ticks": ""
             }
            },
            "type": "scatterpolargl"
           }
          ],
          "scatterternary": [
           {
            "marker": {
             "colorbar": {
              "outlinewidth": 0,
              "ticks": ""
             }
            },
            "type": "scatterternary"
           }
          ],
          "surface": [
           {
            "colorbar": {
             "outlinewidth": 0,
             "ticks": ""
            },
            "colorscale": [
             [
              0,
              "#0d0887"
             ],
             [
              0.1111111111111111,
              "#46039f"
             ],
             [
              0.2222222222222222,
              "#7201a8"
             ],
             [
              0.3333333333333333,
              "#9c179e"
             ],
             [
              0.4444444444444444,
              "#bd3786"
             ],
             [
              0.5555555555555556,
              "#d8576b"
             ],
             [
              0.6666666666666666,
              "#ed7953"
             ],
             [
              0.7777777777777778,
              "#fb9f3a"
             ],
             [
              0.8888888888888888,
              "#fdca26"
             ],
             [
              1,
              "#f0f921"
             ]
            ],
            "type": "surface"
           }
          ],
          "table": [
           {
            "cells": {
             "fill": {
              "color": "#EBF0F8"
             },
             "line": {
              "color": "white"
             }
            },
            "header": {
             "fill": {
              "color": "#C8D4E3"
             },
             "line": {
              "color": "white"
             }
            },
            "type": "table"
           }
          ]
         },
         "layout": {
          "annotationdefaults": {
           "arrowcolor": "#2a3f5f",
           "arrowhead": 0,
           "arrowwidth": 1
          },
          "autotypenumbers": "strict",
          "coloraxis": {
           "colorbar": {
            "outlinewidth": 0,
            "ticks": ""
           }
          },
          "colorscale": {
           "diverging": [
            [
             0,
             "#8e0152"
            ],
            [
             0.1,
             "#c51b7d"
            ],
            [
             0.2,
             "#de77ae"
            ],
            [
             0.3,
             "#f1b6da"
            ],
            [
             0.4,
             "#fde0ef"
            ],
            [
             0.5,
             "#f7f7f7"
            ],
            [
             0.6,
             "#e6f5d0"
            ],
            [
             0.7,
             "#b8e186"
            ],
            [
             0.8,
             "#7fbc41"
            ],
            [
             0.9,
             "#4d9221"
            ],
            [
             1,
             "#276419"
            ]
           ],
           "sequential": [
            [
             0,
             "#0d0887"
            ],
            [
             0.1111111111111111,
             "#46039f"
            ],
            [
             0.2222222222222222,
             "#7201a8"
            ],
            [
             0.3333333333333333,
             "#9c179e"
            ],
            [
             0.4444444444444444,
             "#bd3786"
            ],
            [
             0.5555555555555556,
             "#d8576b"
            ],
            [
             0.6666666666666666,
             "#ed7953"
            ],
            [
             0.7777777777777778,
             "#fb9f3a"
            ],
            [
             0.8888888888888888,
             "#fdca26"
            ],
            [
             1,
             "#f0f921"
            ]
           ],
           "sequentialminus": [
            [
             0,
             "#0d0887"
            ],
            [
             0.1111111111111111,
             "#46039f"
            ],
            [
             0.2222222222222222,
             "#7201a8"
            ],
            [
             0.3333333333333333,
             "#9c179e"
            ],
            [
             0.4444444444444444,
             "#bd3786"
            ],
            [
             0.5555555555555556,
             "#d8576b"
            ],
            [
             0.6666666666666666,
             "#ed7953"
            ],
            [
             0.7777777777777778,
             "#fb9f3a"
            ],
            [
             0.8888888888888888,
             "#fdca26"
            ],
            [
             1,
             "#f0f921"
            ]
           ]
          },
          "colorway": [
           "#636efa",
           "#EF553B",
           "#00cc96",
           "#ab63fa",
           "#FFA15A",
           "#19d3f3",
           "#FF6692",
           "#B6E880",
           "#FF97FF",
           "#FECB52"
          ],
          "font": {
           "color": "#2a3f5f"
          },
          "geo": {
           "bgcolor": "white",
           "lakecolor": "white",
           "landcolor": "#E5ECF6",
           "showlakes": true,
           "showland": true,
           "subunitcolor": "white"
          },
          "hoverlabel": {
           "align": "left"
          },
          "hovermode": "closest",
          "mapbox": {
           "style": "light"
          },
          "paper_bgcolor": "white",
          "plot_bgcolor": "#E5ECF6",
          "polar": {
           "angularaxis": {
            "gridcolor": "white",
            "linecolor": "white",
            "ticks": ""
           },
           "bgcolor": "#E5ECF6",
           "radialaxis": {
            "gridcolor": "white",
            "linecolor": "white",
            "ticks": ""
           }
          },
          "scene": {
           "xaxis": {
            "backgroundcolor": "#E5ECF6",
            "gridcolor": "white",
            "gridwidth": 2,
            "linecolor": "white",
            "showbackground": true,
            "ticks": "",
            "zerolinecolor": "white"
           },
           "yaxis": {
            "backgroundcolor": "#E5ECF6",
            "gridcolor": "white",
            "gridwidth": 2,
            "linecolor": "white",
            "showbackground": true,
            "ticks": "",
            "zerolinecolor": "white"
           },
           "zaxis": {
            "backgroundcolor": "#E5ECF6",
            "gridcolor": "white",
            "gridwidth": 2,
            "linecolor": "white",
            "showbackground": true,
            "ticks": "",
            "zerolinecolor": "white"
           }
          },
          "shapedefaults": {
           "line": {
            "color": "#2a3f5f"
           }
          },
          "ternary": {
           "aaxis": {
            "gridcolor": "white",
            "linecolor": "white",
            "ticks": ""
           },
           "baxis": {
            "gridcolor": "white",
            "linecolor": "white",
            "ticks": ""
           },
           "bgcolor": "#E5ECF6",
           "caxis": {
            "gridcolor": "white",
            "linecolor": "white",
            "ticks": ""
           }
          },
          "title": {
           "x": 0.05
          },
          "xaxis": {
           "automargin": true,
           "gridcolor": "white",
           "linecolor": "white",
           "ticks": "",
           "title": {
            "standoff": 15
           },
           "zerolinecolor": "white",
           "zerolinewidth": 2
          },
          "yaxis": {
           "automargin": true,
           "gridcolor": "white",
           "linecolor": "white",
           "ticks": "",
           "title": {
            "standoff": 15
           },
           "zerolinecolor": "white",
           "zerolinewidth": 2
          }
         }
        },
        "xaxis": {
         "anchor": "y",
         "domain": [
          0,
          0.94
         ]
        },
        "yaxis": {
         "anchor": "x",
         "domain": [
          0,
          1
         ]
        },
        "yaxis2": {
         "anchor": "x",
         "overlaying": "y",
         "side": "right"
        }
       }
      }
     },
     "metadata": {},
     "output_type": "display_data"
    }
   ],
   "source": [
    "import plotly.graph_objects as go\n",
    "from plotly.subplots import make_subplots\n",
    "\n",
    "# Create figure with secondary y-axis\n",
    "fig = make_subplots(specs=[[{\"secondary_y\": True}]])\n",
    "result = result.sort_values(by='total_price_sum',ascending=False)\n",
    "\n",
    "fig.add_trace(go.Bar(x=result['product_code'], \n",
    "    y=result['total_price_sum'], name='total_inventory_sum'),\n",
    "    secondary_y=False,\n",
    ")\n",
    "\n",
    "fig.add_trace(go.Scatter(x=result['product_code'], \n",
    "    y=result['cumulative_percentage'], name='cumulative_percentage'),\n",
    "    secondary_y=True,\n",
    ")"
   ]
  },
  {
   "cell_type": "code",
   "execution_count": 125,
   "metadata": {},
   "outputs": [
    {
     "data": {
      "application/vnd.plotly.v1+json": {
       "config": {
        "plotlyServerURL": "https://plot.ly"
       },
       "data": [
        {
         "domain": {
          "x": [
           0,
           1
          ],
          "y": [
           0,
           1
          ]
         },
         "hole": 0.3,
         "hovertemplate": "label=%{label}<br>value=%{value}<extra></extra>",
         "labels": [
          "A",
          "B",
          "C"
         ],
         "legendgroup": "",
         "name": "",
         "showlegend": true,
         "type": "pie",
         "values": [
          54,
          18,
          8
         ]
        }
       ],
       "layout": {
        "legend": {
         "tracegroupgap": 0
        },
        "template": {
         "data": {
          "bar": [
           {
            "error_x": {
             "color": "#2a3f5f"
            },
            "error_y": {
             "color": "#2a3f5f"
            },
            "marker": {
             "line": {
              "color": "#E5ECF6",
              "width": 0.5
             },
             "pattern": {
              "fillmode": "overlay",
              "size": 10,
              "solidity": 0.2
             }
            },
            "type": "bar"
           }
          ],
          "barpolar": [
           {
            "marker": {
             "line": {
              "color": "#E5ECF6",
              "width": 0.5
             },
             "pattern": {
              "fillmode": "overlay",
              "size": 10,
              "solidity": 0.2
             }
            },
            "type": "barpolar"
           }
          ],
          "carpet": [
           {
            "aaxis": {
             "endlinecolor": "#2a3f5f",
             "gridcolor": "white",
             "linecolor": "white",
             "minorgridcolor": "white",
             "startlinecolor": "#2a3f5f"
            },
            "baxis": {
             "endlinecolor": "#2a3f5f",
             "gridcolor": "white",
             "linecolor": "white",
             "minorgridcolor": "white",
             "startlinecolor": "#2a3f5f"
            },
            "type": "carpet"
           }
          ],
          "choropleth": [
           {
            "colorbar": {
             "outlinewidth": 0,
             "ticks": ""
            },
            "type": "choropleth"
           }
          ],
          "contour": [
           {
            "colorbar": {
             "outlinewidth": 0,
             "ticks": ""
            },
            "colorscale": [
             [
              0,
              "#0d0887"
             ],
             [
              0.1111111111111111,
              "#46039f"
             ],
             [
              0.2222222222222222,
              "#7201a8"
             ],
             [
              0.3333333333333333,
              "#9c179e"
             ],
             [
              0.4444444444444444,
              "#bd3786"
             ],
             [
              0.5555555555555556,
              "#d8576b"
             ],
             [
              0.6666666666666666,
              "#ed7953"
             ],
             [
              0.7777777777777778,
              "#fb9f3a"
             ],
             [
              0.8888888888888888,
              "#fdca26"
             ],
             [
              1,
              "#f0f921"
             ]
            ],
            "type": "contour"
           }
          ],
          "contourcarpet": [
           {
            "colorbar": {
             "outlinewidth": 0,
             "ticks": ""
            },
            "type": "contourcarpet"
           }
          ],
          "heatmap": [
           {
            "colorbar": {
             "outlinewidth": 0,
             "ticks": ""
            },
            "colorscale": [
             [
              0,
              "#0d0887"
             ],
             [
              0.1111111111111111,
              "#46039f"
             ],
             [
              0.2222222222222222,
              "#7201a8"
             ],
             [
              0.3333333333333333,
              "#9c179e"
             ],
             [
              0.4444444444444444,
              "#bd3786"
             ],
             [
              0.5555555555555556,
              "#d8576b"
             ],
             [
              0.6666666666666666,
              "#ed7953"
             ],
             [
              0.7777777777777778,
              "#fb9f3a"
             ],
             [
              0.8888888888888888,
              "#fdca26"
             ],
             [
              1,
              "#f0f921"
             ]
            ],
            "type": "heatmap"
           }
          ],
          "heatmapgl": [
           {
            "colorbar": {
             "outlinewidth": 0,
             "ticks": ""
            },
            "colorscale": [
             [
              0,
              "#0d0887"
             ],
             [
              0.1111111111111111,
              "#46039f"
             ],
             [
              0.2222222222222222,
              "#7201a8"
             ],
             [
              0.3333333333333333,
              "#9c179e"
             ],
             [
              0.4444444444444444,
              "#bd3786"
             ],
             [
              0.5555555555555556,
              "#d8576b"
             ],
             [
              0.6666666666666666,
              "#ed7953"
             ],
             [
              0.7777777777777778,
              "#fb9f3a"
             ],
             [
              0.8888888888888888,
              "#fdca26"
             ],
             [
              1,
              "#f0f921"
             ]
            ],
            "type": "heatmapgl"
           }
          ],
          "histogram": [
           {
            "marker": {
             "pattern": {
              "fillmode": "overlay",
              "size": 10,
              "solidity": 0.2
             }
            },
            "type": "histogram"
           }
          ],
          "histogram2d": [
           {
            "colorbar": {
             "outlinewidth": 0,
             "ticks": ""
            },
            "colorscale": [
             [
              0,
              "#0d0887"
             ],
             [
              0.1111111111111111,
              "#46039f"
             ],
             [
              0.2222222222222222,
              "#7201a8"
             ],
             [
              0.3333333333333333,
              "#9c179e"
             ],
             [
              0.4444444444444444,
              "#bd3786"
             ],
             [
              0.5555555555555556,
              "#d8576b"
             ],
             [
              0.6666666666666666,
              "#ed7953"
             ],
             [
              0.7777777777777778,
              "#fb9f3a"
             ],
             [
              0.8888888888888888,
              "#fdca26"
             ],
             [
              1,
              "#f0f921"
             ]
            ],
            "type": "histogram2d"
           }
          ],
          "histogram2dcontour": [
           {
            "colorbar": {
             "outlinewidth": 0,
             "ticks": ""
            },
            "colorscale": [
             [
              0,
              "#0d0887"
             ],
             [
              0.1111111111111111,
              "#46039f"
             ],
             [
              0.2222222222222222,
              "#7201a8"
             ],
             [
              0.3333333333333333,
              "#9c179e"
             ],
             [
              0.4444444444444444,
              "#bd3786"
             ],
             [
              0.5555555555555556,
              "#d8576b"
             ],
             [
              0.6666666666666666,
              "#ed7953"
             ],
             [
              0.7777777777777778,
              "#fb9f3a"
             ],
             [
              0.8888888888888888,
              "#fdca26"
             ],
             [
              1,
              "#f0f921"
             ]
            ],
            "type": "histogram2dcontour"
           }
          ],
          "mesh3d": [
           {
            "colorbar": {
             "outlinewidth": 0,
             "ticks": ""
            },
            "type": "mesh3d"
           }
          ],
          "parcoords": [
           {
            "line": {
             "colorbar": {
              "outlinewidth": 0,
              "ticks": ""
             }
            },
            "type": "parcoords"
           }
          ],
          "pie": [
           {
            "automargin": true,
            "type": "pie"
           }
          ],
          "scatter": [
           {
            "fillpattern": {
             "fillmode": "overlay",
             "size": 10,
             "solidity": 0.2
            },
            "type": "scatter"
           }
          ],
          "scatter3d": [
           {
            "line": {
             "colorbar": {
              "outlinewidth": 0,
              "ticks": ""
             }
            },
            "marker": {
             "colorbar": {
              "outlinewidth": 0,
              "ticks": ""
             }
            },
            "type": "scatter3d"
           }
          ],
          "scattercarpet": [
           {
            "marker": {
             "colorbar": {
              "outlinewidth": 0,
              "ticks": ""
             }
            },
            "type": "scattercarpet"
           }
          ],
          "scattergeo": [
           {
            "marker": {
             "colorbar": {
              "outlinewidth": 0,
              "ticks": ""
             }
            },
            "type": "scattergeo"
           }
          ],
          "scattergl": [
           {
            "marker": {
             "colorbar": {
              "outlinewidth": 0,
              "ticks": ""
             }
            },
            "type": "scattergl"
           }
          ],
          "scattermapbox": [
           {
            "marker": {
             "colorbar": {
              "outlinewidth": 0,
              "ticks": ""
             }
            },
            "type": "scattermapbox"
           }
          ],
          "scatterpolar": [
           {
            "marker": {
             "colorbar": {
              "outlinewidth": 0,
              "ticks": ""
             }
            },
            "type": "scatterpolar"
           }
          ],
          "scatterpolargl": [
           {
            "marker": {
             "colorbar": {
              "outlinewidth": 0,
              "ticks": ""
             }
            },
            "type": "scatterpolargl"
           }
          ],
          "scatterternary": [
           {
            "marker": {
             "colorbar": {
              "outlinewidth": 0,
              "ticks": ""
             }
            },
            "type": "scatterternary"
           }
          ],
          "surface": [
           {
            "colorbar": {
             "outlinewidth": 0,
             "ticks": ""
            },
            "colorscale": [
             [
              0,
              "#0d0887"
             ],
             [
              0.1111111111111111,
              "#46039f"
             ],
             [
              0.2222222222222222,
              "#7201a8"
             ],
             [
              0.3333333333333333,
              "#9c179e"
             ],
             [
              0.4444444444444444,
              "#bd3786"
             ],
             [
              0.5555555555555556,
              "#d8576b"
             ],
             [
              0.6666666666666666,
              "#ed7953"
             ],
             [
              0.7777777777777778,
              "#fb9f3a"
             ],
             [
              0.8888888888888888,
              "#fdca26"
             ],
             [
              1,
              "#f0f921"
             ]
            ],
            "type": "surface"
           }
          ],
          "table": [
           {
            "cells": {
             "fill": {
              "color": "#EBF0F8"
             },
             "line": {
              "color": "white"
             }
            },
            "header": {
             "fill": {
              "color": "#C8D4E3"
             },
             "line": {
              "color": "white"
             }
            },
            "type": "table"
           }
          ]
         },
         "layout": {
          "annotationdefaults": {
           "arrowcolor": "#2a3f5f",
           "arrowhead": 0,
           "arrowwidth": 1
          },
          "autotypenumbers": "strict",
          "coloraxis": {
           "colorbar": {
            "outlinewidth": 0,
            "ticks": ""
           }
          },
          "colorscale": {
           "diverging": [
            [
             0,
             "#8e0152"
            ],
            [
             0.1,
             "#c51b7d"
            ],
            [
             0.2,
             "#de77ae"
            ],
            [
             0.3,
             "#f1b6da"
            ],
            [
             0.4,
             "#fde0ef"
            ],
            [
             0.5,
             "#f7f7f7"
            ],
            [
             0.6,
             "#e6f5d0"
            ],
            [
             0.7,
             "#b8e186"
            ],
            [
             0.8,
             "#7fbc41"
            ],
            [
             0.9,
             "#4d9221"
            ],
            [
             1,
             "#276419"
            ]
           ],
           "sequential": [
            [
             0,
             "#0d0887"
            ],
            [
             0.1111111111111111,
             "#46039f"
            ],
            [
             0.2222222222222222,
             "#7201a8"
            ],
            [
             0.3333333333333333,
             "#9c179e"
            ],
            [
             0.4444444444444444,
             "#bd3786"
            ],
            [
             0.5555555555555556,
             "#d8576b"
            ],
            [
             0.6666666666666666,
             "#ed7953"
            ],
            [
             0.7777777777777778,
             "#fb9f3a"
            ],
            [
             0.8888888888888888,
             "#fdca26"
            ],
            [
             1,
             "#f0f921"
            ]
           ],
           "sequentialminus": [
            [
             0,
             "#0d0887"
            ],
            [
             0.1111111111111111,
             "#46039f"
            ],
            [
             0.2222222222222222,
             "#7201a8"
            ],
            [
             0.3333333333333333,
             "#9c179e"
            ],
            [
             0.4444444444444444,
             "#bd3786"
            ],
            [
             0.5555555555555556,
             "#d8576b"
            ],
            [
             0.6666666666666666,
             "#ed7953"
            ],
            [
             0.7777777777777778,
             "#fb9f3a"
            ],
            [
             0.8888888888888888,
             "#fdca26"
            ],
            [
             1,
             "#f0f921"
            ]
           ]
          },
          "colorway": [
           "#636efa",
           "#EF553B",
           "#00cc96",
           "#ab63fa",
           "#FFA15A",
           "#19d3f3",
           "#FF6692",
           "#B6E880",
           "#FF97FF",
           "#FECB52"
          ],
          "font": {
           "color": "#2a3f5f"
          },
          "geo": {
           "bgcolor": "white",
           "lakecolor": "white",
           "landcolor": "#E5ECF6",
           "showlakes": true,
           "showland": true,
           "subunitcolor": "white"
          },
          "hoverlabel": {
           "align": "left"
          },
          "hovermode": "closest",
          "mapbox": {
           "style": "light"
          },
          "paper_bgcolor": "white",
          "plot_bgcolor": "#E5ECF6",
          "polar": {
           "angularaxis": {
            "gridcolor": "white",
            "linecolor": "white",
            "ticks": ""
           },
           "bgcolor": "#E5ECF6",
           "radialaxis": {
            "gridcolor": "white",
            "linecolor": "white",
            "ticks": ""
           }
          },
          "scene": {
           "xaxis": {
            "backgroundcolor": "#E5ECF6",
            "gridcolor": "white",
            "gridwidth": 2,
            "linecolor": "white",
            "showbackground": true,
            "ticks": "",
            "zerolinecolor": "white"
           },
           "yaxis": {
            "backgroundcolor": "#E5ECF6",
            "gridcolor": "white",
            "gridwidth": 2,
            "linecolor": "white",
            "showbackground": true,
            "ticks": "",
            "zerolinecolor": "white"
           },
           "zaxis": {
            "backgroundcolor": "#E5ECF6",
            "gridcolor": "white",
            "gridwidth": 2,
            "linecolor": "white",
            "showbackground": true,
            "ticks": "",
            "zerolinecolor": "white"
           }
          },
          "shapedefaults": {
           "line": {
            "color": "#2a3f5f"
           }
          },
          "ternary": {
           "aaxis": {
            "gridcolor": "white",
            "linecolor": "white",
            "ticks": ""
           },
           "baxis": {
            "gridcolor": "white",
            "linecolor": "white",
            "ticks": ""
           },
           "bgcolor": "#E5ECF6",
           "caxis": {
            "gridcolor": "white",
            "linecolor": "white",
            "ticks": ""
           }
          },
          "title": {
           "x": 0.05
          },
          "xaxis": {
           "automargin": true,
           "gridcolor": "white",
           "linecolor": "white",
           "ticks": "",
           "title": {
            "standoff": 15
           },
           "zerolinecolor": "white",
           "zerolinewidth": 2
          },
          "yaxis": {
           "automargin": true,
           "gridcolor": "white",
           "linecolor": "white",
           "ticks": "",
           "title": {
            "standoff": 15
           },
           "zerolinecolor": "white",
           "zerolinewidth": 2
          }
         }
        },
        "title": {
         "text": "Pie Chart Example"
        }
       }
      }
     },
     "metadata": {},
     "output_type": "display_data"
    }
   ],
   "source": [
    "# Sample data\n",
    "labels = ['A', 'B', 'C', 'D']\n",
    "values = [30, 20, 25, 25]\n",
    "\n",
    "# Create a pie chart\n",
    "fig = px.pie(\n",
    "    names=result['ABC_category'].unique(),\n",
    "    values=pie_chart['count'],\n",
    "    title='Pie Chart Example',\n",
    "    hole=0.3  # Add a hole in the center of the pie chart\n",
    ")\n",
    "fig.show()"
   ]
  },
  {
   "cell_type": "code",
   "execution_count": 131,
   "metadata": {},
   "outputs": [
    {
     "data": {
      "application/vnd.plotly.v1+json": {
       "config": {
        "plotlyServerURL": "https://plot.ly"
       },
       "data": [
        {
         "alignmentgroup": "True",
         "bingroup": "x",
         "histfunc": "sum",
         "hovertemplate": "color=A<br>x=%{x}<br>sum of y=%{y}<extra></extra>",
         "legendgroup": "A",
         "marker": {
          "color": "#636efa",
          "pattern": {
           "shape": ""
          }
         },
         "name": "A",
         "offsetgroup": "A",
         "orientation": "v",
         "showlegend": true,
         "type": "histogram",
         "x": [
          "Gyeser 13",
          "Appliance 20",
          "Appliance 18",
          "Fan 6",
          "Appliance 2",
          "Gyeser 6",
          "Gyeser 9",
          "Fan 8",
          "Appliance 4",
          "Fan 16",
          "Fan 14",
          "Lighting 12",
          "Appliance 12",
          "Lighting 8",
          "Lighting 7",
          "Appliance 6",
          "Gyeser 20",
          "Lighting 15",
          "Lighting 11",
          "Appliance 3",
          "Lighting 6",
          "Lighting 9",
          "Fan 18",
          "Fan 15",
          "Appliance 8",
          "Fan 20",
          "Appliance 16",
          "Appliance 13",
          "Gyeser 10",
          "Gyeser 11",
          "Lighting 5",
          "Gyeser 3",
          "Appliance 19",
          "Gyeser 16",
          "Appliance 1",
          "Fan 2",
          "Fan 12",
          "Fan 11",
          "Fan 17",
          "Appliance 11",
          "Fan 7",
          "Appliance 15",
          "Lighting 3",
          "Lighting 18",
          "Gyeser 4",
          "Fan 3",
          "Fan 5",
          "Gyeser 15",
          "Gyeser 7",
          "Gyeser 19",
          "Appliance 5",
          "Appliance 9",
          "Gyeser 14",
          "Lighting 20"
         ],
         "xaxis": "x",
         "y": [
          8976,
          6429,
          8198,
          6341,
          6740,
          6628,
          5962,
          6027,
          5785,
          6911,
          6821,
          5411,
          5888,
          5925,
          6704,
          6046,
          6420,
          5569,
          6747,
          6351,
          5467,
          6956,
          5811,
          5091,
          5348,
          6039,
          7208,
          5426,
          6746,
          4687,
          4802,
          5046,
          5834,
          6046,
          5455,
          6128,
          4517,
          5536,
          8133,
          4776,
          4186,
          5155,
          6130,
          5300,
          5018,
          6213,
          5909,
          6540,
          6774,
          5966,
          4887,
          6240,
          4848,
          5291
         ],
         "yaxis": "y"
        },
        {
         "alignmentgroup": "True",
         "bingroup": "x",
         "histfunc": "sum",
         "hovertemplate": "color=B<br>x=%{x}<br>sum of y=%{y}<extra></extra>",
         "legendgroup": "B",
         "marker": {
          "color": "#EF553B",
          "pattern": {
           "shape": ""
          }
         },
         "name": "B",
         "offsetgroup": "B",
         "orientation": "v",
         "showlegend": true,
         "type": "histogram",
         "x": [
          "Fan 1",
          "Gyeser 1",
          "Lighting 14",
          "Lighting 13",
          "Lighting 10",
          "Lighting 4",
          "Appliance 17",
          "Gyeser 2",
          "Fan 9",
          "Fan 4",
          "Appliance 7",
          "Fan 13",
          "Appliance 10",
          "Fan 19",
          "Lighting 1",
          "Lighting 16",
          "Gyeser 5",
          "Gyeser 18"
         ],
         "xaxis": "x",
         "y": [
          4733,
          3760,
          4286,
          6347,
          3681,
          5040,
          4927,
          5050,
          3896,
          7101,
          5322,
          5805,
          4707,
          4475,
          5383,
          4550,
          5983,
          5613
         ],
         "yaxis": "y"
        },
        {
         "alignmentgroup": "True",
         "bingroup": "x",
         "histfunc": "sum",
         "hovertemplate": "color=C<br>x=%{x}<br>sum of y=%{y}<extra></extra>",
         "legendgroup": "C",
         "marker": {
          "color": "#00cc96",
          "pattern": {
           "shape": ""
          }
         },
         "name": "C",
         "offsetgroup": "C",
         "orientation": "v",
         "showlegend": true,
         "type": "histogram",
         "x": [
          "Lighting 17",
          "Lighting 19",
          "Lighting 2",
          "Appliance 14",
          "Gyeser 12",
          "Fan 10",
          "Gyeser 17",
          "Gyeser 8"
         ],
         "xaxis": "x",
         "y": [
          4390,
          3422,
          4223,
          6084,
          5521,
          5660,
          4030,
          3769
         ],
         "yaxis": "y"
        }
       ],
       "layout": {
        "barmode": "relative",
        "legend": {
         "title": {
          "text": "color"
         },
         "tracegroupgap": 0
        },
        "margin": {
         "t": 60
        },
        "template": {
         "data": {
          "bar": [
           {
            "error_x": {
             "color": "#2a3f5f"
            },
            "error_y": {
             "color": "#2a3f5f"
            },
            "marker": {
             "line": {
              "color": "#E5ECF6",
              "width": 0.5
             },
             "pattern": {
              "fillmode": "overlay",
              "size": 10,
              "solidity": 0.2
             }
            },
            "type": "bar"
           }
          ],
          "barpolar": [
           {
            "marker": {
             "line": {
              "color": "#E5ECF6",
              "width": 0.5
             },
             "pattern": {
              "fillmode": "overlay",
              "size": 10,
              "solidity": 0.2
             }
            },
            "type": "barpolar"
           }
          ],
          "carpet": [
           {
            "aaxis": {
             "endlinecolor": "#2a3f5f",
             "gridcolor": "white",
             "linecolor": "white",
             "minorgridcolor": "white",
             "startlinecolor": "#2a3f5f"
            },
            "baxis": {
             "endlinecolor": "#2a3f5f",
             "gridcolor": "white",
             "linecolor": "white",
             "minorgridcolor": "white",
             "startlinecolor": "#2a3f5f"
            },
            "type": "carpet"
           }
          ],
          "choropleth": [
           {
            "colorbar": {
             "outlinewidth": 0,
             "ticks": ""
            },
            "type": "choropleth"
           }
          ],
          "contour": [
           {
            "colorbar": {
             "outlinewidth": 0,
             "ticks": ""
            },
            "colorscale": [
             [
              0,
              "#0d0887"
             ],
             [
              0.1111111111111111,
              "#46039f"
             ],
             [
              0.2222222222222222,
              "#7201a8"
             ],
             [
              0.3333333333333333,
              "#9c179e"
             ],
             [
              0.4444444444444444,
              "#bd3786"
             ],
             [
              0.5555555555555556,
              "#d8576b"
             ],
             [
              0.6666666666666666,
              "#ed7953"
             ],
             [
              0.7777777777777778,
              "#fb9f3a"
             ],
             [
              0.8888888888888888,
              "#fdca26"
             ],
             [
              1,
              "#f0f921"
             ]
            ],
            "type": "contour"
           }
          ],
          "contourcarpet": [
           {
            "colorbar": {
             "outlinewidth": 0,
             "ticks": ""
            },
            "type": "contourcarpet"
           }
          ],
          "heatmap": [
           {
            "colorbar": {
             "outlinewidth": 0,
             "ticks": ""
            },
            "colorscale": [
             [
              0,
              "#0d0887"
             ],
             [
              0.1111111111111111,
              "#46039f"
             ],
             [
              0.2222222222222222,
              "#7201a8"
             ],
             [
              0.3333333333333333,
              "#9c179e"
             ],
             [
              0.4444444444444444,
              "#bd3786"
             ],
             [
              0.5555555555555556,
              "#d8576b"
             ],
             [
              0.6666666666666666,
              "#ed7953"
             ],
             [
              0.7777777777777778,
              "#fb9f3a"
             ],
             [
              0.8888888888888888,
              "#fdca26"
             ],
             [
              1,
              "#f0f921"
             ]
            ],
            "type": "heatmap"
           }
          ],
          "heatmapgl": [
           {
            "colorbar": {
             "outlinewidth": 0,
             "ticks": ""
            },
            "colorscale": [
             [
              0,
              "#0d0887"
             ],
             [
              0.1111111111111111,
              "#46039f"
             ],
             [
              0.2222222222222222,
              "#7201a8"
             ],
             [
              0.3333333333333333,
              "#9c179e"
             ],
             [
              0.4444444444444444,
              "#bd3786"
             ],
             [
              0.5555555555555556,
              "#d8576b"
             ],
             [
              0.6666666666666666,
              "#ed7953"
             ],
             [
              0.7777777777777778,
              "#fb9f3a"
             ],
             [
              0.8888888888888888,
              "#fdca26"
             ],
             [
              1,
              "#f0f921"
             ]
            ],
            "type": "heatmapgl"
           }
          ],
          "histogram": [
           {
            "marker": {
             "pattern": {
              "fillmode": "overlay",
              "size": 10,
              "solidity": 0.2
             }
            },
            "type": "histogram"
           }
          ],
          "histogram2d": [
           {
            "colorbar": {
             "outlinewidth": 0,
             "ticks": ""
            },
            "colorscale": [
             [
              0,
              "#0d0887"
             ],
             [
              0.1111111111111111,
              "#46039f"
             ],
             [
              0.2222222222222222,
              "#7201a8"
             ],
             [
              0.3333333333333333,
              "#9c179e"
             ],
             [
              0.4444444444444444,
              "#bd3786"
             ],
             [
              0.5555555555555556,
              "#d8576b"
             ],
             [
              0.6666666666666666,
              "#ed7953"
             ],
             [
              0.7777777777777778,
              "#fb9f3a"
             ],
             [
              0.8888888888888888,
              "#fdca26"
             ],
             [
              1,
              "#f0f921"
             ]
            ],
            "type": "histogram2d"
           }
          ],
          "histogram2dcontour": [
           {
            "colorbar": {
             "outlinewidth": 0,
             "ticks": ""
            },
            "colorscale": [
             [
              0,
              "#0d0887"
             ],
             [
              0.1111111111111111,
              "#46039f"
             ],
             [
              0.2222222222222222,
              "#7201a8"
             ],
             [
              0.3333333333333333,
              "#9c179e"
             ],
             [
              0.4444444444444444,
              "#bd3786"
             ],
             [
              0.5555555555555556,
              "#d8576b"
             ],
             [
              0.6666666666666666,
              "#ed7953"
             ],
             [
              0.7777777777777778,
              "#fb9f3a"
             ],
             [
              0.8888888888888888,
              "#fdca26"
             ],
             [
              1,
              "#f0f921"
             ]
            ],
            "type": "histogram2dcontour"
           }
          ],
          "mesh3d": [
           {
            "colorbar": {
             "outlinewidth": 0,
             "ticks": ""
            },
            "type": "mesh3d"
           }
          ],
          "parcoords": [
           {
            "line": {
             "colorbar": {
              "outlinewidth": 0,
              "ticks": ""
             }
            },
            "type": "parcoords"
           }
          ],
          "pie": [
           {
            "automargin": true,
            "type": "pie"
           }
          ],
          "scatter": [
           {
            "fillpattern": {
             "fillmode": "overlay",
             "size": 10,
             "solidity": 0.2
            },
            "type": "scatter"
           }
          ],
          "scatter3d": [
           {
            "line": {
             "colorbar": {
              "outlinewidth": 0,
              "ticks": ""
             }
            },
            "marker": {
             "colorbar": {
              "outlinewidth": 0,
              "ticks": ""
             }
            },
            "type": "scatter3d"
           }
          ],
          "scattercarpet": [
           {
            "marker": {
             "colorbar": {
              "outlinewidth": 0,
              "ticks": ""
             }
            },
            "type": "scattercarpet"
           }
          ],
          "scattergeo": [
           {
            "marker": {
             "colorbar": {
              "outlinewidth": 0,
              "ticks": ""
             }
            },
            "type": "scattergeo"
           }
          ],
          "scattergl": [
           {
            "marker": {
             "colorbar": {
              "outlinewidth": 0,
              "ticks": ""
             }
            },
            "type": "scattergl"
           }
          ],
          "scattermapbox": [
           {
            "marker": {
             "colorbar": {
              "outlinewidth": 0,
              "ticks": ""
             }
            },
            "type": "scattermapbox"
           }
          ],
          "scatterpolar": [
           {
            "marker": {
             "colorbar": {
              "outlinewidth": 0,
              "ticks": ""
             }
            },
            "type": "scatterpolar"
           }
          ],
          "scatterpolargl": [
           {
            "marker": {
             "colorbar": {
              "outlinewidth": 0,
              "ticks": ""
             }
            },
            "type": "scatterpolargl"
           }
          ],
          "scatterternary": [
           {
            "marker": {
             "colorbar": {
              "outlinewidth": 0,
              "ticks": ""
             }
            },
            "type": "scatterternary"
           }
          ],
          "surface": [
           {
            "colorbar": {
             "outlinewidth": 0,
             "ticks": ""
            },
            "colorscale": [
             [
              0,
              "#0d0887"
             ],
             [
              0.1111111111111111,
              "#46039f"
             ],
             [
              0.2222222222222222,
              "#7201a8"
             ],
             [
              0.3333333333333333,
              "#9c179e"
             ],
             [
              0.4444444444444444,
              "#bd3786"
             ],
             [
              0.5555555555555556,
              "#d8576b"
             ],
             [
              0.6666666666666666,
              "#ed7953"
             ],
             [
              0.7777777777777778,
              "#fb9f3a"
             ],
             [
              0.8888888888888888,
              "#fdca26"
             ],
             [
              1,
              "#f0f921"
             ]
            ],
            "type": "surface"
           }
          ],
          "table": [
           {
            "cells": {
             "fill": {
              "color": "#EBF0F8"
             },
             "line": {
              "color": "white"
             }
            },
            "header": {
             "fill": {
              "color": "#C8D4E3"
             },
             "line": {
              "color": "white"
             }
            },
            "type": "table"
           }
          ]
         },
         "layout": {
          "annotationdefaults": {
           "arrowcolor": "#2a3f5f",
           "arrowhead": 0,
           "arrowwidth": 1
          },
          "autotypenumbers": "strict",
          "coloraxis": {
           "colorbar": {
            "outlinewidth": 0,
            "ticks": ""
           }
          },
          "colorscale": {
           "diverging": [
            [
             0,
             "#8e0152"
            ],
            [
             0.1,
             "#c51b7d"
            ],
            [
             0.2,
             "#de77ae"
            ],
            [
             0.3,
             "#f1b6da"
            ],
            [
             0.4,
             "#fde0ef"
            ],
            [
             0.5,
             "#f7f7f7"
            ],
            [
             0.6,
             "#e6f5d0"
            ],
            [
             0.7,
             "#b8e186"
            ],
            [
             0.8,
             "#7fbc41"
            ],
            [
             0.9,
             "#4d9221"
            ],
            [
             1,
             "#276419"
            ]
           ],
           "sequential": [
            [
             0,
             "#0d0887"
            ],
            [
             0.1111111111111111,
             "#46039f"
            ],
            [
             0.2222222222222222,
             "#7201a8"
            ],
            [
             0.3333333333333333,
             "#9c179e"
            ],
            [
             0.4444444444444444,
             "#bd3786"
            ],
            [
             0.5555555555555556,
             "#d8576b"
            ],
            [
             0.6666666666666666,
             "#ed7953"
            ],
            [
             0.7777777777777778,
             "#fb9f3a"
            ],
            [
             0.8888888888888888,
             "#fdca26"
            ],
            [
             1,
             "#f0f921"
            ]
           ],
           "sequentialminus": [
            [
             0,
             "#0d0887"
            ],
            [
             0.1111111111111111,
             "#46039f"
            ],
            [
             0.2222222222222222,
             "#7201a8"
            ],
            [
             0.3333333333333333,
             "#9c179e"
            ],
            [
             0.4444444444444444,
             "#bd3786"
            ],
            [
             0.5555555555555556,
             "#d8576b"
            ],
            [
             0.6666666666666666,
             "#ed7953"
            ],
            [
             0.7777777777777778,
             "#fb9f3a"
            ],
            [
             0.8888888888888888,
             "#fdca26"
            ],
            [
             1,
             "#f0f921"
            ]
           ]
          },
          "colorway": [
           "#636efa",
           "#EF553B",
           "#00cc96",
           "#ab63fa",
           "#FFA15A",
           "#19d3f3",
           "#FF6692",
           "#B6E880",
           "#FF97FF",
           "#FECB52"
          ],
          "font": {
           "color": "#2a3f5f"
          },
          "geo": {
           "bgcolor": "white",
           "lakecolor": "white",
           "landcolor": "#E5ECF6",
           "showlakes": true,
           "showland": true,
           "subunitcolor": "white"
          },
          "hoverlabel": {
           "align": "left"
          },
          "hovermode": "closest",
          "mapbox": {
           "style": "light"
          },
          "paper_bgcolor": "white",
          "plot_bgcolor": "#E5ECF6",
          "polar": {
           "angularaxis": {
            "gridcolor": "white",
            "linecolor": "white",
            "ticks": ""
           },
           "bgcolor": "#E5ECF6",
           "radialaxis": {
            "gridcolor": "white",
            "linecolor": "white",
            "ticks": ""
           }
          },
          "scene": {
           "xaxis": {
            "backgroundcolor": "#E5ECF6",
            "gridcolor": "white",
            "gridwidth": 2,
            "linecolor": "white",
            "showbackground": true,
            "ticks": "",
            "zerolinecolor": "white"
           },
           "yaxis": {
            "backgroundcolor": "#E5ECF6",
            "gridcolor": "white",
            "gridwidth": 2,
            "linecolor": "white",
            "showbackground": true,
            "ticks": "",
            "zerolinecolor": "white"
           },
           "zaxis": {
            "backgroundcolor": "#E5ECF6",
            "gridcolor": "white",
            "gridwidth": 2,
            "linecolor": "white",
            "showbackground": true,
            "ticks": "",
            "zerolinecolor": "white"
           }
          },
          "shapedefaults": {
           "line": {
            "color": "#2a3f5f"
           }
          },
          "ternary": {
           "aaxis": {
            "gridcolor": "white",
            "linecolor": "white",
            "ticks": ""
           },
           "baxis": {
            "gridcolor": "white",
            "linecolor": "white",
            "ticks": ""
           },
           "bgcolor": "#E5ECF6",
           "caxis": {
            "gridcolor": "white",
            "linecolor": "white",
            "ticks": ""
           }
          },
          "title": {
           "x": 0.05
          },
          "xaxis": {
           "automargin": true,
           "gridcolor": "white",
           "linecolor": "white",
           "ticks": "",
           "title": {
            "standoff": 15
           },
           "zerolinecolor": "white",
           "zerolinewidth": 2
          },
          "yaxis": {
           "automargin": true,
           "gridcolor": "white",
           "linecolor": "white",
           "ticks": "",
           "title": {
            "standoff": 15
           },
           "zerolinecolor": "white",
           "zerolinewidth": 2
          }
         }
        },
        "xaxis": {
         "anchor": "y",
         "domain": [
          0,
          1
         ],
         "title": {
          "text": "x"
         }
        },
        "yaxis": {
         "anchor": "x",
         "domain": [
          0,
          1
         ],
         "title": {
          "text": "sum of y"
         }
        }
       }
      }
     },
     "metadata": {},
     "output_type": "display_data"
    }
   ],
   "source": [
    "px.histogram(x=result['product_code'],y=result['total_inventory_sum'],color=result['ABC_category'])"
   ]
  },
  {
   "cell_type": "code",
   "execution_count": 4,
   "metadata": {},
   "outputs": [],
   "source": [
    "import pandas as pd\n",
    "import plotly.express as px\n",
    "result = pd.read_excel(\"../data/presentation/results.xlsx\")"
   ]
  },
  {
   "cell_type": "code",
   "execution_count": 7,
   "metadata": {},
   "outputs": [
    {
     "data": {
      "text/html": [
       "<div>\n",
       "<style scoped>\n",
       "    .dataframe tbody tr th:only-of-type {\n",
       "        vertical-align: middle;\n",
       "    }\n",
       "\n",
       "    .dataframe tbody tr th {\n",
       "        vertical-align: top;\n",
       "    }\n",
       "\n",
       "    .dataframe thead th {\n",
       "        text-align: right;\n",
       "    }\n",
       "</style>\n",
       "<table border=\"1\" class=\"dataframe\">\n",
       "  <thead>\n",
       "    <tr style=\"text-align: right;\">\n",
       "      <th></th>\n",
       "      <th>Unnamed: 0</th>\n",
       "      <th>product_code</th>\n",
       "      <th>open_stock_sum</th>\n",
       "      <th>alocated_inventory_sum</th>\n",
       "      <th>damaged_inventory_sum</th>\n",
       "      <th>total_inventory_sum</th>\n",
       "      <th>total_inventory_std</th>\n",
       "      <th>total_inventory_mean</th>\n",
       "      <th>price_per_unit_first</th>\n",
       "      <th>total_price_sum</th>\n",
       "      <th>total_price_std</th>\n",
       "      <th>total_price_mean</th>\n",
       "      <th>cumulative_percentage</th>\n",
       "      <th>CV</th>\n",
       "      <th>ABC_category</th>\n",
       "      <th>XYZ_category</th>\n",
       "    </tr>\n",
       "  </thead>\n",
       "  <tbody>\n",
       "    <tr>\n",
       "      <th>0</th>\n",
       "      <td>0</td>\n",
       "      <td>Gyeser 13</td>\n",
       "      <td>7406</td>\n",
       "      <td>1284</td>\n",
       "      <td>286</td>\n",
       "      <td>8976</td>\n",
       "      <td>32.057794</td>\n",
       "      <td>187.000000</td>\n",
       "      <td>227</td>\n",
       "      <td>2037552</td>\n",
       "      <td>7277.119137</td>\n",
       "      <td>42449.000000</td>\n",
       "      <td>2.226000</td>\n",
       "      <td>1.59168</td>\n",
       "      <td>A</td>\n",
       "      <td>Z</td>\n",
       "    </tr>\n",
       "    <tr>\n",
       "      <th>1</th>\n",
       "      <td>1</td>\n",
       "      <td>Appliance 20</td>\n",
       "      <td>5391</td>\n",
       "      <td>871</td>\n",
       "      <td>167</td>\n",
       "      <td>6429</td>\n",
       "      <td>39.087964</td>\n",
       "      <td>183.685714</td>\n",
       "      <td>267</td>\n",
       "      <td>1716543</td>\n",
       "      <td>10436.486313</td>\n",
       "      <td>49044.085714</td>\n",
       "      <td>4.101301</td>\n",
       "      <td>1.14003</td>\n",
       "      <td>A</td>\n",
       "      <td>Z</td>\n",
       "    </tr>\n",
       "  </tbody>\n",
       "</table>\n",
       "</div>"
      ],
      "text/plain": [
       "   Unnamed: 0  product_code  open_stock_sum  alocated_inventory_sum  \\\n",
       "0           0     Gyeser 13            7406                    1284   \n",
       "1           1  Appliance 20            5391                     871   \n",
       "\n",
       "   damaged_inventory_sum  total_inventory_sum  total_inventory_std  \\\n",
       "0                    286                 8976            32.057794   \n",
       "1                    167                 6429            39.087964   \n",
       "\n",
       "   total_inventory_mean  price_per_unit_first  total_price_sum  \\\n",
       "0            187.000000                   227          2037552   \n",
       "1            183.685714                   267          1716543   \n",
       "\n",
       "   total_price_std  total_price_mean  cumulative_percentage       CV  \\\n",
       "0      7277.119137      42449.000000               2.226000  1.59168   \n",
       "1     10436.486313      49044.085714               4.101301  1.14003   \n",
       "\n",
       "  ABC_category XYZ_category  \n",
       "0            A            Z  \n",
       "1            A            Z  "
      ]
     },
     "execution_count": 7,
     "metadata": {},
     "output_type": "execute_result"
    }
   ],
   "source": [
    "result.head(2)"
   ]
  },
  {
   "cell_type": "code",
   "execution_count": 10,
   "metadata": {},
   "outputs": [
    {
     "data": {
      "text/html": [
       "<div>\n",
       "<style scoped>\n",
       "    .dataframe tbody tr th:only-of-type {\n",
       "        vertical-align: middle;\n",
       "    }\n",
       "\n",
       "    .dataframe tbody tr th {\n",
       "        vertical-align: top;\n",
       "    }\n",
       "\n",
       "    .dataframe thead th {\n",
       "        text-align: right;\n",
       "    }\n",
       "</style>\n",
       "<table border=\"1\" class=\"dataframe\">\n",
       "  <thead>\n",
       "    <tr style=\"text-align: right;\">\n",
       "      <th></th>\n",
       "      <th>Unnamed: 0</th>\n",
       "      <th>product_code</th>\n",
       "      <th>open_stock_sum</th>\n",
       "      <th>alocated_inventory_sum</th>\n",
       "      <th>damaged_inventory_sum</th>\n",
       "      <th>total_inventory_sum</th>\n",
       "      <th>total_inventory_std</th>\n",
       "      <th>total_inventory_mean</th>\n",
       "      <th>price_per_unit_first</th>\n",
       "      <th>total_price_sum</th>\n",
       "      <th>total_price_std</th>\n",
       "      <th>total_price_mean</th>\n",
       "      <th>cumulative_percentage</th>\n",
       "      <th>CV</th>\n",
       "      <th>ABC_category</th>\n",
       "      <th>XYZ_category</th>\n",
       "    </tr>\n",
       "  </thead>\n",
       "  <tbody>\n",
       "    <tr>\n",
       "      <th>0</th>\n",
       "      <td>0</td>\n",
       "      <td>Gyeser 13</td>\n",
       "      <td>7406</td>\n",
       "      <td>1284</td>\n",
       "      <td>286</td>\n",
       "      <td>8976</td>\n",
       "      <td>32.057794</td>\n",
       "      <td>187.000000</td>\n",
       "      <td>227</td>\n",
       "      <td>2037552</td>\n",
       "      <td>7277.119137</td>\n",
       "      <td>42449.000000</td>\n",
       "      <td>2.226000</td>\n",
       "      <td>1.591680</td>\n",
       "      <td>A</td>\n",
       "      <td>Z</td>\n",
       "    </tr>\n",
       "    <tr>\n",
       "      <th>1</th>\n",
       "      <td>1</td>\n",
       "      <td>Appliance 20</td>\n",
       "      <td>5391</td>\n",
       "      <td>871</td>\n",
       "      <td>167</td>\n",
       "      <td>6429</td>\n",
       "      <td>39.087964</td>\n",
       "      <td>183.685714</td>\n",
       "      <td>267</td>\n",
       "      <td>1716543</td>\n",
       "      <td>10436.486313</td>\n",
       "      <td>49044.085714</td>\n",
       "      <td>4.101301</td>\n",
       "      <td>1.140030</td>\n",
       "      <td>A</td>\n",
       "      <td>Z</td>\n",
       "    </tr>\n",
       "    <tr>\n",
       "      <th>2</th>\n",
       "      <td>2</td>\n",
       "      <td>Appliance 18</td>\n",
       "      <td>6882</td>\n",
       "      <td>1085</td>\n",
       "      <td>231</td>\n",
       "      <td>8198</td>\n",
       "      <td>29.288757</td>\n",
       "      <td>182.177778</td>\n",
       "      <td>208</td>\n",
       "      <td>1705184</td>\n",
       "      <td>6092.061550</td>\n",
       "      <td>37892.977778</td>\n",
       "      <td>5.964193</td>\n",
       "      <td>1.453720</td>\n",
       "      <td>A</td>\n",
       "      <td>Z</td>\n",
       "    </tr>\n",
       "    <tr>\n",
       "      <th>3</th>\n",
       "      <td>3</td>\n",
       "      <td>Fan 6</td>\n",
       "      <td>5188</td>\n",
       "      <td>946</td>\n",
       "      <td>207</td>\n",
       "      <td>6341</td>\n",
       "      <td>38.074606</td>\n",
       "      <td>181.171429</td>\n",
       "      <td>265</td>\n",
       "      <td>1680365</td>\n",
       "      <td>10089.770619</td>\n",
       "      <td>48010.428571</td>\n",
       "      <td>7.799970</td>\n",
       "      <td>1.124425</td>\n",
       "      <td>A</td>\n",
       "      <td>Z</td>\n",
       "    </tr>\n",
       "    <tr>\n",
       "      <th>4</th>\n",
       "      <td>4</td>\n",
       "      <td>Appliance 2</td>\n",
       "      <td>5660</td>\n",
       "      <td>884</td>\n",
       "      <td>196</td>\n",
       "      <td>6740</td>\n",
       "      <td>33.540617</td>\n",
       "      <td>182.162162</td>\n",
       "      <td>248</td>\n",
       "      <td>1671520</td>\n",
       "      <td>8318.072958</td>\n",
       "      <td>45176.216216</td>\n",
       "      <td>9.626084</td>\n",
       "      <td>1.195179</td>\n",
       "      <td>A</td>\n",
       "      <td>Z</td>\n",
       "    </tr>\n",
       "    <tr>\n",
       "      <th>...</th>\n",
       "      <td>...</td>\n",
       "      <td>...</td>\n",
       "      <td>...</td>\n",
       "      <td>...</td>\n",
       "      <td>...</td>\n",
       "      <td>...</td>\n",
       "      <td>...</td>\n",
       "      <td>...</td>\n",
       "      <td>...</td>\n",
       "      <td>...</td>\n",
       "      <td>...</td>\n",
       "      <td>...</td>\n",
       "      <td>...</td>\n",
       "      <td>...</td>\n",
       "      <td>...</td>\n",
       "      <td>...</td>\n",
       "    </tr>\n",
       "    <tr>\n",
       "      <th>75</th>\n",
       "      <td>75</td>\n",
       "      <td>Appliance 14</td>\n",
       "      <td>5074</td>\n",
       "      <td>829</td>\n",
       "      <td>181</td>\n",
       "      <td>6084</td>\n",
       "      <td>36.195547</td>\n",
       "      <td>178.941176</td>\n",
       "      <td>102</td>\n",
       "      <td>620568</td>\n",
       "      <td>3691.945828</td>\n",
       "      <td>18252.000000</td>\n",
       "      <td>97.565050</td>\n",
       "      <td>1.078853</td>\n",
       "      <td>C</td>\n",
       "      <td>Z</td>\n",
       "    </tr>\n",
       "    <tr>\n",
       "      <th>76</th>\n",
       "      <td>76</td>\n",
       "      <td>Gyeser 12</td>\n",
       "      <td>4589</td>\n",
       "      <td>725</td>\n",
       "      <td>207</td>\n",
       "      <td>5521</td>\n",
       "      <td>36.936301</td>\n",
       "      <td>178.096774</td>\n",
       "      <td>111</td>\n",
       "      <td>612831</td>\n",
       "      <td>4099.929398</td>\n",
       "      <td>19768.741935</td>\n",
       "      <td>98.234560</td>\n",
       "      <td>0.979018</td>\n",
       "      <td>C</td>\n",
       "      <td>Z</td>\n",
       "    </tr>\n",
       "    <tr>\n",
       "      <th>77</th>\n",
       "      <td>77</td>\n",
       "      <td>Fan 10</td>\n",
       "      <td>4764</td>\n",
       "      <td>731</td>\n",
       "      <td>165</td>\n",
       "      <td>5660</td>\n",
       "      <td>30.654825</td>\n",
       "      <td>182.580645</td>\n",
       "      <td>107</td>\n",
       "      <td>605620</td>\n",
       "      <td>3280.066247</td>\n",
       "      <td>19536.129032</td>\n",
       "      <td>98.896192</td>\n",
       "      <td>1.003666</td>\n",
       "      <td>C</td>\n",
       "      <td>Z</td>\n",
       "    </tr>\n",
       "    <tr>\n",
       "      <th>78</th>\n",
       "      <td>78</td>\n",
       "      <td>Gyeser 17</td>\n",
       "      <td>3383</td>\n",
       "      <td>511</td>\n",
       "      <td>136</td>\n",
       "      <td>4030</td>\n",
       "      <td>36.757135</td>\n",
       "      <td>175.217391</td>\n",
       "      <td>131</td>\n",
       "      <td>527930</td>\n",
       "      <td>4815.184655</td>\n",
       "      <td>22953.478261</td>\n",
       "      <td>99.472949</td>\n",
       "      <td>0.714625</td>\n",
       "      <td>C</td>\n",
       "      <td>Z</td>\n",
       "    </tr>\n",
       "    <tr>\n",
       "      <th>79</th>\n",
       "      <td>79</td>\n",
       "      <td>Gyeser 8</td>\n",
       "      <td>3068</td>\n",
       "      <td>575</td>\n",
       "      <td>126</td>\n",
       "      <td>3769</td>\n",
       "      <td>30.203100</td>\n",
       "      <td>171.318182</td>\n",
       "      <td>128</td>\n",
       "      <td>482432</td>\n",
       "      <td>3865.996849</td>\n",
       "      <td>21928.727273</td>\n",
       "      <td>100.000000</td>\n",
       "      <td>0.668342</td>\n",
       "      <td>C</td>\n",
       "      <td>Y</td>\n",
       "    </tr>\n",
       "  </tbody>\n",
       "</table>\n",
       "<p>80 rows × 16 columns</p>\n",
       "</div>"
      ],
      "text/plain": [
       "    Unnamed: 0  product_code  open_stock_sum  alocated_inventory_sum  \\\n",
       "0            0     Gyeser 13            7406                    1284   \n",
       "1            1  Appliance 20            5391                     871   \n",
       "2            2  Appliance 18            6882                    1085   \n",
       "3            3         Fan 6            5188                     946   \n",
       "4            4   Appliance 2            5660                     884   \n",
       "..         ...           ...             ...                     ...   \n",
       "75          75  Appliance 14            5074                     829   \n",
       "76          76     Gyeser 12            4589                     725   \n",
       "77          77        Fan 10            4764                     731   \n",
       "78          78     Gyeser 17            3383                     511   \n",
       "79          79      Gyeser 8            3068                     575   \n",
       "\n",
       "    damaged_inventory_sum  total_inventory_sum  total_inventory_std  \\\n",
       "0                     286                 8976            32.057794   \n",
       "1                     167                 6429            39.087964   \n",
       "2                     231                 8198            29.288757   \n",
       "3                     207                 6341            38.074606   \n",
       "4                     196                 6740            33.540617   \n",
       "..                    ...                  ...                  ...   \n",
       "75                    181                 6084            36.195547   \n",
       "76                    207                 5521            36.936301   \n",
       "77                    165                 5660            30.654825   \n",
       "78                    136                 4030            36.757135   \n",
       "79                    126                 3769            30.203100   \n",
       "\n",
       "    total_inventory_mean  price_per_unit_first  total_price_sum  \\\n",
       "0             187.000000                   227          2037552   \n",
       "1             183.685714                   267          1716543   \n",
       "2             182.177778                   208          1705184   \n",
       "3             181.171429                   265          1680365   \n",
       "4             182.162162                   248          1671520   \n",
       "..                   ...                   ...              ...   \n",
       "75            178.941176                   102           620568   \n",
       "76            178.096774                   111           612831   \n",
       "77            182.580645                   107           605620   \n",
       "78            175.217391                   131           527930   \n",
       "79            171.318182                   128           482432   \n",
       "\n",
       "    total_price_std  total_price_mean  cumulative_percentage        CV  \\\n",
       "0       7277.119137      42449.000000               2.226000  1.591680   \n",
       "1      10436.486313      49044.085714               4.101301  1.140030   \n",
       "2       6092.061550      37892.977778               5.964193  1.453720   \n",
       "3      10089.770619      48010.428571               7.799970  1.124425   \n",
       "4       8318.072958      45176.216216               9.626084  1.195179   \n",
       "..              ...               ...                    ...       ...   \n",
       "75      3691.945828      18252.000000              97.565050  1.078853   \n",
       "76      4099.929398      19768.741935              98.234560  0.979018   \n",
       "77      3280.066247      19536.129032              98.896192  1.003666   \n",
       "78      4815.184655      22953.478261              99.472949  0.714625   \n",
       "79      3865.996849      21928.727273             100.000000  0.668342   \n",
       "\n",
       "   ABC_category XYZ_category  \n",
       "0             A            Z  \n",
       "1             A            Z  \n",
       "2             A            Z  \n",
       "3             A            Z  \n",
       "4             A            Z  \n",
       "..          ...          ...  \n",
       "75            C            Z  \n",
       "76            C            Z  \n",
       "77            C            Z  \n",
       "78            C            Z  \n",
       "79            C            Y  \n",
       "\n",
       "[80 rows x 16 columns]"
      ]
     },
     "execution_count": 10,
     "metadata": {},
     "output_type": "execute_result"
    }
   ],
   "source": [
    "result"
   ]
  },
  {
   "cell_type": "code",
   "execution_count": 15,
   "metadata": {},
   "outputs": [
    {
     "data": {
      "text/html": [
       "<div>\n",
       "<style scoped>\n",
       "    .dataframe tbody tr th:only-of-type {\n",
       "        vertical-align: middle;\n",
       "    }\n",
       "\n",
       "    .dataframe tbody tr th {\n",
       "        vertical-align: top;\n",
       "    }\n",
       "\n",
       "    .dataframe thead th {\n",
       "        text-align: right;\n",
       "    }\n",
       "</style>\n",
       "<table border=\"1\" class=\"dataframe\">\n",
       "  <thead>\n",
       "    <tr style=\"text-align: right;\">\n",
       "      <th></th>\n",
       "      <th>Unnamed: 0</th>\n",
       "      <th>product_code</th>\n",
       "      <th>open_stock_sum</th>\n",
       "      <th>alocated_inventory_sum</th>\n",
       "      <th>damaged_inventory_sum</th>\n",
       "      <th>total_inventory_sum</th>\n",
       "      <th>total_inventory_std</th>\n",
       "      <th>total_inventory_mean</th>\n",
       "      <th>price_per_unit_first</th>\n",
       "      <th>total_price_sum</th>\n",
       "      <th>total_price_std</th>\n",
       "      <th>total_price_mean</th>\n",
       "      <th>cumulative_percentage</th>\n",
       "      <th>CV</th>\n",
       "      <th>ABC_category</th>\n",
       "      <th>XYZ_category</th>\n",
       "    </tr>\n",
       "  </thead>\n",
       "  <tbody>\n",
       "    <tr>\n",
       "      <th>0</th>\n",
       "      <td>0</td>\n",
       "      <td>Gyeser 13</td>\n",
       "      <td>7406</td>\n",
       "      <td>1284</td>\n",
       "      <td>286</td>\n",
       "      <td>8976</td>\n",
       "      <td>32.057794</td>\n",
       "      <td>187.000000</td>\n",
       "      <td>227</td>\n",
       "      <td>2037552</td>\n",
       "      <td>7277.119137</td>\n",
       "      <td>42449.000000</td>\n",
       "      <td>2.226000</td>\n",
       "      <td>1.591680</td>\n",
       "      <td>A</td>\n",
       "      <td>Z</td>\n",
       "    </tr>\n",
       "    <tr>\n",
       "      <th>1</th>\n",
       "      <td>1</td>\n",
       "      <td>Appliance 20</td>\n",
       "      <td>5391</td>\n",
       "      <td>871</td>\n",
       "      <td>167</td>\n",
       "      <td>6429</td>\n",
       "      <td>39.087964</td>\n",
       "      <td>183.685714</td>\n",
       "      <td>267</td>\n",
       "      <td>1716543</td>\n",
       "      <td>10436.486313</td>\n",
       "      <td>49044.085714</td>\n",
       "      <td>4.101301</td>\n",
       "      <td>1.140030</td>\n",
       "      <td>A</td>\n",
       "      <td>Z</td>\n",
       "    </tr>\n",
       "    <tr>\n",
       "      <th>2</th>\n",
       "      <td>2</td>\n",
       "      <td>Appliance 18</td>\n",
       "      <td>6882</td>\n",
       "      <td>1085</td>\n",
       "      <td>231</td>\n",
       "      <td>8198</td>\n",
       "      <td>29.288757</td>\n",
       "      <td>182.177778</td>\n",
       "      <td>208</td>\n",
       "      <td>1705184</td>\n",
       "      <td>6092.061550</td>\n",
       "      <td>37892.977778</td>\n",
       "      <td>5.964193</td>\n",
       "      <td>1.453720</td>\n",
       "      <td>A</td>\n",
       "      <td>Z</td>\n",
       "    </tr>\n",
       "    <tr>\n",
       "      <th>3</th>\n",
       "      <td>3</td>\n",
       "      <td>Fan 6</td>\n",
       "      <td>5188</td>\n",
       "      <td>946</td>\n",
       "      <td>207</td>\n",
       "      <td>6341</td>\n",
       "      <td>38.074606</td>\n",
       "      <td>181.171429</td>\n",
       "      <td>265</td>\n",
       "      <td>1680365</td>\n",
       "      <td>10089.770619</td>\n",
       "      <td>48010.428571</td>\n",
       "      <td>7.799970</td>\n",
       "      <td>1.124425</td>\n",
       "      <td>A</td>\n",
       "      <td>Z</td>\n",
       "    </tr>\n",
       "    <tr>\n",
       "      <th>4</th>\n",
       "      <td>4</td>\n",
       "      <td>Appliance 2</td>\n",
       "      <td>5660</td>\n",
       "      <td>884</td>\n",
       "      <td>196</td>\n",
       "      <td>6740</td>\n",
       "      <td>33.540617</td>\n",
       "      <td>182.162162</td>\n",
       "      <td>248</td>\n",
       "      <td>1671520</td>\n",
       "      <td>8318.072958</td>\n",
       "      <td>45176.216216</td>\n",
       "      <td>9.626084</td>\n",
       "      <td>1.195179</td>\n",
       "      <td>A</td>\n",
       "      <td>Z</td>\n",
       "    </tr>\n",
       "    <tr>\n",
       "      <th>...</th>\n",
       "      <td>...</td>\n",
       "      <td>...</td>\n",
       "      <td>...</td>\n",
       "      <td>...</td>\n",
       "      <td>...</td>\n",
       "      <td>...</td>\n",
       "      <td>...</td>\n",
       "      <td>...</td>\n",
       "      <td>...</td>\n",
       "      <td>...</td>\n",
       "      <td>...</td>\n",
       "      <td>...</td>\n",
       "      <td>...</td>\n",
       "      <td>...</td>\n",
       "      <td>...</td>\n",
       "      <td>...</td>\n",
       "    </tr>\n",
       "    <tr>\n",
       "      <th>75</th>\n",
       "      <td>75</td>\n",
       "      <td>Appliance 14</td>\n",
       "      <td>5074</td>\n",
       "      <td>829</td>\n",
       "      <td>181</td>\n",
       "      <td>6084</td>\n",
       "      <td>36.195547</td>\n",
       "      <td>178.941176</td>\n",
       "      <td>102</td>\n",
       "      <td>620568</td>\n",
       "      <td>3691.945828</td>\n",
       "      <td>18252.000000</td>\n",
       "      <td>97.565050</td>\n",
       "      <td>1.078853</td>\n",
       "      <td>C</td>\n",
       "      <td>Z</td>\n",
       "    </tr>\n",
       "    <tr>\n",
       "      <th>76</th>\n",
       "      <td>76</td>\n",
       "      <td>Gyeser 12</td>\n",
       "      <td>4589</td>\n",
       "      <td>725</td>\n",
       "      <td>207</td>\n",
       "      <td>5521</td>\n",
       "      <td>36.936301</td>\n",
       "      <td>178.096774</td>\n",
       "      <td>111</td>\n",
       "      <td>612831</td>\n",
       "      <td>4099.929398</td>\n",
       "      <td>19768.741935</td>\n",
       "      <td>98.234560</td>\n",
       "      <td>0.979018</td>\n",
       "      <td>C</td>\n",
       "      <td>Z</td>\n",
       "    </tr>\n",
       "    <tr>\n",
       "      <th>77</th>\n",
       "      <td>77</td>\n",
       "      <td>Fan 10</td>\n",
       "      <td>4764</td>\n",
       "      <td>731</td>\n",
       "      <td>165</td>\n",
       "      <td>5660</td>\n",
       "      <td>30.654825</td>\n",
       "      <td>182.580645</td>\n",
       "      <td>107</td>\n",
       "      <td>605620</td>\n",
       "      <td>3280.066247</td>\n",
       "      <td>19536.129032</td>\n",
       "      <td>98.896192</td>\n",
       "      <td>1.003666</td>\n",
       "      <td>C</td>\n",
       "      <td>Z</td>\n",
       "    </tr>\n",
       "    <tr>\n",
       "      <th>78</th>\n",
       "      <td>78</td>\n",
       "      <td>Gyeser 17</td>\n",
       "      <td>3383</td>\n",
       "      <td>511</td>\n",
       "      <td>136</td>\n",
       "      <td>4030</td>\n",
       "      <td>36.757135</td>\n",
       "      <td>175.217391</td>\n",
       "      <td>131</td>\n",
       "      <td>527930</td>\n",
       "      <td>4815.184655</td>\n",
       "      <td>22953.478261</td>\n",
       "      <td>99.472949</td>\n",
       "      <td>0.714625</td>\n",
       "      <td>C</td>\n",
       "      <td>Z</td>\n",
       "    </tr>\n",
       "    <tr>\n",
       "      <th>79</th>\n",
       "      <td>79</td>\n",
       "      <td>Gyeser 8</td>\n",
       "      <td>3068</td>\n",
       "      <td>575</td>\n",
       "      <td>126</td>\n",
       "      <td>3769</td>\n",
       "      <td>30.203100</td>\n",
       "      <td>171.318182</td>\n",
       "      <td>128</td>\n",
       "      <td>482432</td>\n",
       "      <td>3865.996849</td>\n",
       "      <td>21928.727273</td>\n",
       "      <td>100.000000</td>\n",
       "      <td>0.668342</td>\n",
       "      <td>C</td>\n",
       "      <td>Y</td>\n",
       "    </tr>\n",
       "  </tbody>\n",
       "</table>\n",
       "<p>80 rows × 16 columns</p>\n",
       "</div>"
      ],
      "text/plain": [
       "    Unnamed: 0  product_code  open_stock_sum  alocated_inventory_sum  \\\n",
       "0            0     Gyeser 13            7406                    1284   \n",
       "1            1  Appliance 20            5391                     871   \n",
       "2            2  Appliance 18            6882                    1085   \n",
       "3            3         Fan 6            5188                     946   \n",
       "4            4   Appliance 2            5660                     884   \n",
       "..         ...           ...             ...                     ...   \n",
       "75          75  Appliance 14            5074                     829   \n",
       "76          76     Gyeser 12            4589                     725   \n",
       "77          77        Fan 10            4764                     731   \n",
       "78          78     Gyeser 17            3383                     511   \n",
       "79          79      Gyeser 8            3068                     575   \n",
       "\n",
       "    damaged_inventory_sum  total_inventory_sum  total_inventory_std  \\\n",
       "0                     286                 8976            32.057794   \n",
       "1                     167                 6429            39.087964   \n",
       "2                     231                 8198            29.288757   \n",
       "3                     207                 6341            38.074606   \n",
       "4                     196                 6740            33.540617   \n",
       "..                    ...                  ...                  ...   \n",
       "75                    181                 6084            36.195547   \n",
       "76                    207                 5521            36.936301   \n",
       "77                    165                 5660            30.654825   \n",
       "78                    136                 4030            36.757135   \n",
       "79                    126                 3769            30.203100   \n",
       "\n",
       "    total_inventory_mean  price_per_unit_first  total_price_sum  \\\n",
       "0             187.000000                   227          2037552   \n",
       "1             183.685714                   267          1716543   \n",
       "2             182.177778                   208          1705184   \n",
       "3             181.171429                   265          1680365   \n",
       "4             182.162162                   248          1671520   \n",
       "..                   ...                   ...              ...   \n",
       "75            178.941176                   102           620568   \n",
       "76            178.096774                   111           612831   \n",
       "77            182.580645                   107           605620   \n",
       "78            175.217391                   131           527930   \n",
       "79            171.318182                   128           482432   \n",
       "\n",
       "    total_price_std  total_price_mean  cumulative_percentage        CV  \\\n",
       "0       7277.119137      42449.000000               2.226000  1.591680   \n",
       "1      10436.486313      49044.085714               4.101301  1.140030   \n",
       "2       6092.061550      37892.977778               5.964193  1.453720   \n",
       "3      10089.770619      48010.428571               7.799970  1.124425   \n",
       "4       8318.072958      45176.216216               9.626084  1.195179   \n",
       "..              ...               ...                    ...       ...   \n",
       "75      3691.945828      18252.000000              97.565050  1.078853   \n",
       "76      4099.929398      19768.741935              98.234560  0.979018   \n",
       "77      3280.066247      19536.129032              98.896192  1.003666   \n",
       "78      4815.184655      22953.478261              99.472949  0.714625   \n",
       "79      3865.996849      21928.727273             100.000000  0.668342   \n",
       "\n",
       "   ABC_category XYZ_category  \n",
       "0             A            Z  \n",
       "1             A            Z  \n",
       "2             A            Z  \n",
       "3             A            Z  \n",
       "4             A            Z  \n",
       "..          ...          ...  \n",
       "75            C            Z  \n",
       "76            C            Z  \n",
       "77            C            Z  \n",
       "78            C            Z  \n",
       "79            C            Y  \n",
       "\n",
       "[80 rows x 16 columns]"
      ]
     },
     "execution_count": 15,
     "metadata": {},
     "output_type": "execute_result"
    }
   ],
   "source": [
    "result"
   ]
  },
  {
   "cell_type": "markdown",
   "metadata": {},
   "source": []
  },
  {
   "cell_type": "code",
   "execution_count": 21,
   "metadata": {},
   "outputs": [
    {
     "data": {
      "application/vnd.plotly.v1+json": {
       "config": {
        "plotlyServerURL": "https://plot.ly"
       },
       "data": [
        {
         "alignmentgroup": "True",
         "hovertemplate": "variable=open_stock_sum<br>product_code=%{x}<br>value=%{y}<extra></extra>",
         "legendgroup": "open_stock_sum",
         "marker": {
          "color": "#636efa",
          "pattern": {
           "shape": ""
          }
         },
         "name": "open_stock_sum",
         "offsetgroup": "open_stock_sum",
         "orientation": "v",
         "showlegend": true,
         "textposition": "auto",
         "type": "bar",
         "x": [
          "Gyeser 13",
          "Appliance 20",
          "Appliance 18",
          "Fan 6",
          "Appliance 2",
          "Gyeser 6",
          "Gyeser 9",
          "Fan 8",
          "Appliance 4",
          "Fan 16",
          "Fan 14",
          "Lighting 12",
          "Appliance 12",
          "Lighting 8",
          "Lighting 7",
          "Appliance 6",
          "Gyeser 20",
          "Lighting 15",
          "Lighting 11",
          "Appliance 3",
          "Lighting 6",
          "Lighting 9",
          "Fan 18",
          "Fan 15",
          "Appliance 8",
          "Fan 20",
          "Appliance 16",
          "Appliance 13",
          "Gyeser 10",
          "Gyeser 11",
          "Lighting 5",
          "Gyeser 3",
          "Appliance 19",
          "Gyeser 16",
          "Appliance 1",
          "Fan 2",
          "Fan 12",
          "Fan 11",
          "Fan 17",
          "Appliance 11",
          "Fan 7",
          "Appliance 15",
          "Lighting 3",
          "Lighting 18",
          "Gyeser 4",
          "Fan 3",
          "Fan 5",
          "Gyeser 15",
          "Gyeser 7",
          "Gyeser 19",
          "Appliance 5",
          "Appliance 9",
          "Gyeser 14",
          "Lighting 20",
          "Fan 1",
          "Gyeser 1",
          "Lighting 14",
          "Lighting 13",
          "Lighting 10",
          "Lighting 4",
          "Appliance 17",
          "Gyeser 2",
          "Fan 9",
          "Fan 4",
          "Appliance 7",
          "Fan 13",
          "Appliance 10",
          "Fan 19",
          "Lighting 1",
          "Lighting 16",
          "Gyeser 5",
          "Gyeser 18",
          "Lighting 17",
          "Lighting 19",
          "Lighting 2",
          "Appliance 14",
          "Gyeser 12",
          "Fan 10",
          "Gyeser 17",
          "Gyeser 8"
         ],
         "xaxis": "x",
         "y": [
          7406,
          5391,
          6882,
          5188,
          5660,
          5587,
          5063,
          5047,
          4803,
          5810,
          5639,
          4437,
          4890,
          4927,
          5624,
          5056,
          5192,
          4574,
          5611,
          5319,
          4508,
          5730,
          4746,
          4209,
          4477,
          4998,
          5915,
          4491,
          5565,
          3926,
          3840,
          4021,
          4871,
          5196,
          4330,
          5197,
          3746,
          4560,
          6762,
          3911,
          3549,
          4456,
          4963,
          4332,
          4209,
          5045,
          5028,
          5511,
          5658,
          4857,
          4138,
          5206,
          4012,
          4218,
          3905,
          3196,
          3514,
          5379,
          2998,
          4261,
          4055,
          4145,
          3329,
          5927,
          4355,
          4644,
          4046,
          3571,
          4455,
          3739,
          4946,
          4628,
          3587,
          2830,
          3519,
          5074,
          4589,
          4764,
          3383,
          3068
         ],
         "yaxis": "y"
        },
        {
         "alignmentgroup": "True",
         "hovertemplate": "variable=alocated_inventory_sum<br>product_code=%{x}<br>value=%{y}<extra></extra>",
         "legendgroup": "alocated_inventory_sum",
         "marker": {
          "color": "#EF553B",
          "pattern": {
           "shape": ""
          }
         },
         "name": "alocated_inventory_sum",
         "offsetgroup": "alocated_inventory_sum",
         "orientation": "v",
         "showlegend": true,
         "textposition": "auto",
         "type": "bar",
         "x": [
          "Gyeser 13",
          "Appliance 20",
          "Appliance 18",
          "Fan 6",
          "Appliance 2",
          "Gyeser 6",
          "Gyeser 9",
          "Fan 8",
          "Appliance 4",
          "Fan 16",
          "Fan 14",
          "Lighting 12",
          "Appliance 12",
          "Lighting 8",
          "Lighting 7",
          "Appliance 6",
          "Gyeser 20",
          "Lighting 15",
          "Lighting 11",
          "Appliance 3",
          "Lighting 6",
          "Lighting 9",
          "Fan 18",
          "Fan 15",
          "Appliance 8",
          "Fan 20",
          "Appliance 16",
          "Appliance 13",
          "Gyeser 10",
          "Gyeser 11",
          "Lighting 5",
          "Gyeser 3",
          "Appliance 19",
          "Gyeser 16",
          "Appliance 1",
          "Fan 2",
          "Fan 12",
          "Fan 11",
          "Fan 17",
          "Appliance 11",
          "Fan 7",
          "Appliance 15",
          "Lighting 3",
          "Lighting 18",
          "Gyeser 4",
          "Fan 3",
          "Fan 5",
          "Gyeser 15",
          "Gyeser 7",
          "Gyeser 19",
          "Appliance 5",
          "Appliance 9",
          "Gyeser 14",
          "Lighting 20",
          "Fan 1",
          "Gyeser 1",
          "Lighting 14",
          "Lighting 13",
          "Lighting 10",
          "Lighting 4",
          "Appliance 17",
          "Gyeser 2",
          "Fan 9",
          "Fan 4",
          "Appliance 7",
          "Fan 13",
          "Appliance 10",
          "Fan 19",
          "Lighting 1",
          "Lighting 16",
          "Gyeser 5",
          "Gyeser 18",
          "Lighting 17",
          "Lighting 19",
          "Lighting 2",
          "Appliance 14",
          "Gyeser 12",
          "Fan 10",
          "Gyeser 17",
          "Gyeser 8"
         ],
         "xaxis": "x",
         "y": [
          1284,
          871,
          1085,
          946,
          884,
          856,
          764,
          803,
          817,
          903,
          1004,
          816,
          835,
          809,
          884,
          814,
          1034,
          822,
          907,
          846,
          796,
          1012,
          906,
          717,
          705,
          865,
          1053,
          791,
          986,
          614,
          812,
          891,
          789,
          657,
          968,
          762,
          624,
          795,
          1159,
          704,
          500,
          536,
          952,
          824,
          683,
          1034,
          711,
          850,
          926,
          931,
          590,
          833,
          693,
          901,
          653,
          456,
          647,
          774,
          585,
          647,
          725,
          756,
          440,
          941,
          802,
          986,
          515,
          767,
          749,
          662,
          849,
          831,
          675,
          480,
          564,
          829,
          725,
          731,
          511,
          575
         ],
         "yaxis": "y"
        },
        {
         "alignmentgroup": "True",
         "hovertemplate": "variable=damaged_inventory_sum<br>product_code=%{x}<br>value=%{y}<extra></extra>",
         "legendgroup": "damaged_inventory_sum",
         "marker": {
          "color": "#00cc96",
          "pattern": {
           "shape": ""
          }
         },
         "name": "damaged_inventory_sum",
         "offsetgroup": "damaged_inventory_sum",
         "orientation": "v",
         "showlegend": true,
         "textposition": "auto",
         "type": "bar",
         "x": [
          "Gyeser 13",
          "Appliance 20",
          "Appliance 18",
          "Fan 6",
          "Appliance 2",
          "Gyeser 6",
          "Gyeser 9",
          "Fan 8",
          "Appliance 4",
          "Fan 16",
          "Fan 14",
          "Lighting 12",
          "Appliance 12",
          "Lighting 8",
          "Lighting 7",
          "Appliance 6",
          "Gyeser 20",
          "Lighting 15",
          "Lighting 11",
          "Appliance 3",
          "Lighting 6",
          "Lighting 9",
          "Fan 18",
          "Fan 15",
          "Appliance 8",
          "Fan 20",
          "Appliance 16",
          "Appliance 13",
          "Gyeser 10",
          "Gyeser 11",
          "Lighting 5",
          "Gyeser 3",
          "Appliance 19",
          "Gyeser 16",
          "Appliance 1",
          "Fan 2",
          "Fan 12",
          "Fan 11",
          "Fan 17",
          "Appliance 11",
          "Fan 7",
          "Appliance 15",
          "Lighting 3",
          "Lighting 18",
          "Gyeser 4",
          "Fan 3",
          "Fan 5",
          "Gyeser 15",
          "Gyeser 7",
          "Gyeser 19",
          "Appliance 5",
          "Appliance 9",
          "Gyeser 14",
          "Lighting 20",
          "Fan 1",
          "Gyeser 1",
          "Lighting 14",
          "Lighting 13",
          "Lighting 10",
          "Lighting 4",
          "Appliance 17",
          "Gyeser 2",
          "Fan 9",
          "Fan 4",
          "Appliance 7",
          "Fan 13",
          "Appliance 10",
          "Fan 19",
          "Lighting 1",
          "Lighting 16",
          "Gyeser 5",
          "Gyeser 18",
          "Lighting 17",
          "Lighting 19",
          "Lighting 2",
          "Appliance 14",
          "Gyeser 12",
          "Fan 10",
          "Gyeser 17",
          "Gyeser 8"
         ],
         "xaxis": "x",
         "y": [
          286,
          167,
          231,
          207,
          196,
          185,
          135,
          177,
          165,
          198,
          178,
          158,
          163,
          189,
          196,
          176,
          194,
          173,
          229,
          186,
          163,
          214,
          159,
          165,
          166,
          176,
          240,
          144,
          195,
          147,
          150,
          134,
          174,
          193,
          157,
          169,
          147,
          181,
          212,
          161,
          137,
          163,
          215,
          144,
          126,
          134,
          170,
          179,
          190,
          178,
          159,
          201,
          143,
          172,
          175,
          108,
          125,
          194,
          98,
          132,
          147,
          149,
          127,
          233,
          165,
          175,
          146,
          137,
          179,
          149,
          188,
          154,
          128,
          112,
          140,
          181,
          207,
          165,
          136,
          126
         ],
         "yaxis": "y"
        }
       ],
       "layout": {
        "barmode": "group",
        "legend": {
         "title": {
          "text": "variable"
         },
         "tracegroupgap": 0
        },
        "margin": {
         "t": 60
        },
        "template": {
         "data": {
          "bar": [
           {
            "error_x": {
             "color": "#2a3f5f"
            },
            "error_y": {
             "color": "#2a3f5f"
            },
            "marker": {
             "line": {
              "color": "#E5ECF6",
              "width": 0.5
             },
             "pattern": {
              "fillmode": "overlay",
              "size": 10,
              "solidity": 0.2
             }
            },
            "type": "bar"
           }
          ],
          "barpolar": [
           {
            "marker": {
             "line": {
              "color": "#E5ECF6",
              "width": 0.5
             },
             "pattern": {
              "fillmode": "overlay",
              "size": 10,
              "solidity": 0.2
             }
            },
            "type": "barpolar"
           }
          ],
          "carpet": [
           {
            "aaxis": {
             "endlinecolor": "#2a3f5f",
             "gridcolor": "white",
             "linecolor": "white",
             "minorgridcolor": "white",
             "startlinecolor": "#2a3f5f"
            },
            "baxis": {
             "endlinecolor": "#2a3f5f",
             "gridcolor": "white",
             "linecolor": "white",
             "minorgridcolor": "white",
             "startlinecolor": "#2a3f5f"
            },
            "type": "carpet"
           }
          ],
          "choropleth": [
           {
            "colorbar": {
             "outlinewidth": 0,
             "ticks": ""
            },
            "type": "choropleth"
           }
          ],
          "contour": [
           {
            "colorbar": {
             "outlinewidth": 0,
             "ticks": ""
            },
            "colorscale": [
             [
              0,
              "#0d0887"
             ],
             [
              0.1111111111111111,
              "#46039f"
             ],
             [
              0.2222222222222222,
              "#7201a8"
             ],
             [
              0.3333333333333333,
              "#9c179e"
             ],
             [
              0.4444444444444444,
              "#bd3786"
             ],
             [
              0.5555555555555556,
              "#d8576b"
             ],
             [
              0.6666666666666666,
              "#ed7953"
             ],
             [
              0.7777777777777778,
              "#fb9f3a"
             ],
             [
              0.8888888888888888,
              "#fdca26"
             ],
             [
              1,
              "#f0f921"
             ]
            ],
            "type": "contour"
           }
          ],
          "contourcarpet": [
           {
            "colorbar": {
             "outlinewidth": 0,
             "ticks": ""
            },
            "type": "contourcarpet"
           }
          ],
          "heatmap": [
           {
            "colorbar": {
             "outlinewidth": 0,
             "ticks": ""
            },
            "colorscale": [
             [
              0,
              "#0d0887"
             ],
             [
              0.1111111111111111,
              "#46039f"
             ],
             [
              0.2222222222222222,
              "#7201a8"
             ],
             [
              0.3333333333333333,
              "#9c179e"
             ],
             [
              0.4444444444444444,
              "#bd3786"
             ],
             [
              0.5555555555555556,
              "#d8576b"
             ],
             [
              0.6666666666666666,
              "#ed7953"
             ],
             [
              0.7777777777777778,
              "#fb9f3a"
             ],
             [
              0.8888888888888888,
              "#fdca26"
             ],
             [
              1,
              "#f0f921"
             ]
            ],
            "type": "heatmap"
           }
          ],
          "heatmapgl": [
           {
            "colorbar": {
             "outlinewidth": 0,
             "ticks": ""
            },
            "colorscale": [
             [
              0,
              "#0d0887"
             ],
             [
              0.1111111111111111,
              "#46039f"
             ],
             [
              0.2222222222222222,
              "#7201a8"
             ],
             [
              0.3333333333333333,
              "#9c179e"
             ],
             [
              0.4444444444444444,
              "#bd3786"
             ],
             [
              0.5555555555555556,
              "#d8576b"
             ],
             [
              0.6666666666666666,
              "#ed7953"
             ],
             [
              0.7777777777777778,
              "#fb9f3a"
             ],
             [
              0.8888888888888888,
              "#fdca26"
             ],
             [
              1,
              "#f0f921"
             ]
            ],
            "type": "heatmapgl"
           }
          ],
          "histogram": [
           {
            "marker": {
             "pattern": {
              "fillmode": "overlay",
              "size": 10,
              "solidity": 0.2
             }
            },
            "type": "histogram"
           }
          ],
          "histogram2d": [
           {
            "colorbar": {
             "outlinewidth": 0,
             "ticks": ""
            },
            "colorscale": [
             [
              0,
              "#0d0887"
             ],
             [
              0.1111111111111111,
              "#46039f"
             ],
             [
              0.2222222222222222,
              "#7201a8"
             ],
             [
              0.3333333333333333,
              "#9c179e"
             ],
             [
              0.4444444444444444,
              "#bd3786"
             ],
             [
              0.5555555555555556,
              "#d8576b"
             ],
             [
              0.6666666666666666,
              "#ed7953"
             ],
             [
              0.7777777777777778,
              "#fb9f3a"
             ],
             [
              0.8888888888888888,
              "#fdca26"
             ],
             [
              1,
              "#f0f921"
             ]
            ],
            "type": "histogram2d"
           }
          ],
          "histogram2dcontour": [
           {
            "colorbar": {
             "outlinewidth": 0,
             "ticks": ""
            },
            "colorscale": [
             [
              0,
              "#0d0887"
             ],
             [
              0.1111111111111111,
              "#46039f"
             ],
             [
              0.2222222222222222,
              "#7201a8"
             ],
             [
              0.3333333333333333,
              "#9c179e"
             ],
             [
              0.4444444444444444,
              "#bd3786"
             ],
             [
              0.5555555555555556,
              "#d8576b"
             ],
             [
              0.6666666666666666,
              "#ed7953"
             ],
             [
              0.7777777777777778,
              "#fb9f3a"
             ],
             [
              0.8888888888888888,
              "#fdca26"
             ],
             [
              1,
              "#f0f921"
             ]
            ],
            "type": "histogram2dcontour"
           }
          ],
          "mesh3d": [
           {
            "colorbar": {
             "outlinewidth": 0,
             "ticks": ""
            },
            "type": "mesh3d"
           }
          ],
          "parcoords": [
           {
            "line": {
             "colorbar": {
              "outlinewidth": 0,
              "ticks": ""
             }
            },
            "type": "parcoords"
           }
          ],
          "pie": [
           {
            "automargin": true,
            "type": "pie"
           }
          ],
          "scatter": [
           {
            "fillpattern": {
             "fillmode": "overlay",
             "size": 10,
             "solidity": 0.2
            },
            "type": "scatter"
           }
          ],
          "scatter3d": [
           {
            "line": {
             "colorbar": {
              "outlinewidth": 0,
              "ticks": ""
             }
            },
            "marker": {
             "colorbar": {
              "outlinewidth": 0,
              "ticks": ""
             }
            },
            "type": "scatter3d"
           }
          ],
          "scattercarpet": [
           {
            "marker": {
             "colorbar": {
              "outlinewidth": 0,
              "ticks": ""
             }
            },
            "type": "scattercarpet"
           }
          ],
          "scattergeo": [
           {
            "marker": {
             "colorbar": {
              "outlinewidth": 0,
              "ticks": ""
             }
            },
            "type": "scattergeo"
           }
          ],
          "scattergl": [
           {
            "marker": {
             "colorbar": {
              "outlinewidth": 0,
              "ticks": ""
             }
            },
            "type": "scattergl"
           }
          ],
          "scattermapbox": [
           {
            "marker": {
             "colorbar": {
              "outlinewidth": 0,
              "ticks": ""
             }
            },
            "type": "scattermapbox"
           }
          ],
          "scatterpolar": [
           {
            "marker": {
             "colorbar": {
              "outlinewidth": 0,
              "ticks": ""
             }
            },
            "type": "scatterpolar"
           }
          ],
          "scatterpolargl": [
           {
            "marker": {
             "colorbar": {
              "outlinewidth": 0,
              "ticks": ""
             }
            },
            "type": "scatterpolargl"
           }
          ],
          "scatterternary": [
           {
            "marker": {
             "colorbar": {
              "outlinewidth": 0,
              "ticks": ""
             }
            },
            "type": "scatterternary"
           }
          ],
          "surface": [
           {
            "colorbar": {
             "outlinewidth": 0,
             "ticks": ""
            },
            "colorscale": [
             [
              0,
              "#0d0887"
             ],
             [
              0.1111111111111111,
              "#46039f"
             ],
             [
              0.2222222222222222,
              "#7201a8"
             ],
             [
              0.3333333333333333,
              "#9c179e"
             ],
             [
              0.4444444444444444,
              "#bd3786"
             ],
             [
              0.5555555555555556,
              "#d8576b"
             ],
             [
              0.6666666666666666,
              "#ed7953"
             ],
             [
              0.7777777777777778,
              "#fb9f3a"
             ],
             [
              0.8888888888888888,
              "#fdca26"
             ],
             [
              1,
              "#f0f921"
             ]
            ],
            "type": "surface"
           }
          ],
          "table": [
           {
            "cells": {
             "fill": {
              "color": "#EBF0F8"
             },
             "line": {
              "color": "white"
             }
            },
            "header": {
             "fill": {
              "color": "#C8D4E3"
             },
             "line": {
              "color": "white"
             }
            },
            "type": "table"
           }
          ]
         },
         "layout": {
          "annotationdefaults": {
           "arrowcolor": "#2a3f5f",
           "arrowhead": 0,
           "arrowwidth": 1
          },
          "autotypenumbers": "strict",
          "coloraxis": {
           "colorbar": {
            "outlinewidth": 0,
            "ticks": ""
           }
          },
          "colorscale": {
           "diverging": [
            [
             0,
             "#8e0152"
            ],
            [
             0.1,
             "#c51b7d"
            ],
            [
             0.2,
             "#de77ae"
            ],
            [
             0.3,
             "#f1b6da"
            ],
            [
             0.4,
             "#fde0ef"
            ],
            [
             0.5,
             "#f7f7f7"
            ],
            [
             0.6,
             "#e6f5d0"
            ],
            [
             0.7,
             "#b8e186"
            ],
            [
             0.8,
             "#7fbc41"
            ],
            [
             0.9,
             "#4d9221"
            ],
            [
             1,
             "#276419"
            ]
           ],
           "sequential": [
            [
             0,
             "#0d0887"
            ],
            [
             0.1111111111111111,
             "#46039f"
            ],
            [
             0.2222222222222222,
             "#7201a8"
            ],
            [
             0.3333333333333333,
             "#9c179e"
            ],
            [
             0.4444444444444444,
             "#bd3786"
            ],
            [
             0.5555555555555556,
             "#d8576b"
            ],
            [
             0.6666666666666666,
             "#ed7953"
            ],
            [
             0.7777777777777778,
             "#fb9f3a"
            ],
            [
             0.8888888888888888,
             "#fdca26"
            ],
            [
             1,
             "#f0f921"
            ]
           ],
           "sequentialminus": [
            [
             0,
             "#0d0887"
            ],
            [
             0.1111111111111111,
             "#46039f"
            ],
            [
             0.2222222222222222,
             "#7201a8"
            ],
            [
             0.3333333333333333,
             "#9c179e"
            ],
            [
             0.4444444444444444,
             "#bd3786"
            ],
            [
             0.5555555555555556,
             "#d8576b"
            ],
            [
             0.6666666666666666,
             "#ed7953"
            ],
            [
             0.7777777777777778,
             "#fb9f3a"
            ],
            [
             0.8888888888888888,
             "#fdca26"
            ],
            [
             1,
             "#f0f921"
            ]
           ]
          },
          "colorway": [
           "#636efa",
           "#EF553B",
           "#00cc96",
           "#ab63fa",
           "#FFA15A",
           "#19d3f3",
           "#FF6692",
           "#B6E880",
           "#FF97FF",
           "#FECB52"
          ],
          "font": {
           "color": "#2a3f5f"
          },
          "geo": {
           "bgcolor": "white",
           "lakecolor": "white",
           "landcolor": "#E5ECF6",
           "showlakes": true,
           "showland": true,
           "subunitcolor": "white"
          },
          "hoverlabel": {
           "align": "left"
          },
          "hovermode": "closest",
          "mapbox": {
           "style": "light"
          },
          "paper_bgcolor": "white",
          "plot_bgcolor": "#E5ECF6",
          "polar": {
           "angularaxis": {
            "gridcolor": "white",
            "linecolor": "white",
            "ticks": ""
           },
           "bgcolor": "#E5ECF6",
           "radialaxis": {
            "gridcolor": "white",
            "linecolor": "white",
            "ticks": ""
           }
          },
          "scene": {
           "xaxis": {
            "backgroundcolor": "#E5ECF6",
            "gridcolor": "white",
            "gridwidth": 2,
            "linecolor": "white",
            "showbackground": true,
            "ticks": "",
            "zerolinecolor": "white"
           },
           "yaxis": {
            "backgroundcolor": "#E5ECF6",
            "gridcolor": "white",
            "gridwidth": 2,
            "linecolor": "white",
            "showbackground": true,
            "ticks": "",
            "zerolinecolor": "white"
           },
           "zaxis": {
            "backgroundcolor": "#E5ECF6",
            "gridcolor": "white",
            "gridwidth": 2,
            "linecolor": "white",
            "showbackground": true,
            "ticks": "",
            "zerolinecolor": "white"
           }
          },
          "shapedefaults": {
           "line": {
            "color": "#2a3f5f"
           }
          },
          "ternary": {
           "aaxis": {
            "gridcolor": "white",
            "linecolor": "white",
            "ticks": ""
           },
           "baxis": {
            "gridcolor": "white",
            "linecolor": "white",
            "ticks": ""
           },
           "bgcolor": "#E5ECF6",
           "caxis": {
            "gridcolor": "white",
            "linecolor": "white",
            "ticks": ""
           }
          },
          "title": {
           "x": 0.05
          },
          "xaxis": {
           "automargin": true,
           "gridcolor": "white",
           "linecolor": "white",
           "ticks": "",
           "title": {
            "standoff": 15
           },
           "zerolinecolor": "white",
           "zerolinewidth": 2
          },
          "yaxis": {
           "automargin": true,
           "gridcolor": "white",
           "linecolor": "white",
           "ticks": "",
           "title": {
            "standoff": 15
           },
           "zerolinecolor": "white",
           "zerolinewidth": 2
          }
         }
        },
        "title": {
         "text": "Inventory Overview by Product Code"
        },
        "xaxis": {
         "anchor": "y",
         "domain": [
          0,
          1
         ],
         "title": {
          "text": "Product Code"
         }
        },
        "yaxis": {
         "anchor": "x",
         "domain": [
          0,
          1
         ],
         "title": {
          "text": "Quantity"
         }
        }
       }
      }
     },
     "metadata": {},
     "output_type": "display_data"
    }
   ],
   "source": [
    "fig = px.bar(result,x='product_code',y=['open_stock_sum','alocated_inventory_sum','damaged_inventory_sum'],barmode='group')\n",
    "fig.update_layout(\n",
    "    title='Inventory Overview by Product Code',\n",
    "    xaxis_title='Product Code',\n",
    "    yaxis_title='Quantity'\n",
    ")"
   ]
  },
  {
   "cell_type": "code",
   "execution_count": null,
   "metadata": {},
   "outputs": [],
   "source": []
  }
 ],
 "metadata": {
  "kernelspec": {
   "display_name": "cards",
   "language": "python",
   "name": "python3"
  },
  "language_info": {
   "codemirror_mode": {
    "name": "ipython",
    "version": 3
   },
   "file_extension": ".py",
   "mimetype": "text/x-python",
   "name": "python",
   "nbconvert_exporter": "python",
   "pygments_lexer": "ipython3",
   "version": "3.10.11"
  }
 },
 "nbformat": 4,
 "nbformat_minor": 2
}
